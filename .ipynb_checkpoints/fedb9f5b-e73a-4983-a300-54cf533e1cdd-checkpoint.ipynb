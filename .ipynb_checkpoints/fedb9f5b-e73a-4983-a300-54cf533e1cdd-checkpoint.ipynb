{
 "cells": [
  {
   "cell_type": "markdown",
   "metadata": {},
   "source": [
    "<div style=\"border:solid Chocolate 2px; padding: 40px\">\n",
    "\n",
    "Привет Александр, меня зовут Саша Атаков. Сегодня я проверю твой проект.\n",
    "<br> Дальнейшее общение будет происходить на \"ты\" если это не вызывает никаких проблем.\n",
    "<br> Желательно реагировать на каждый мой комментарий ('исправил', 'не понятно как исправить ошибку', ...)\n",
    "<br> Пожалуйста, не удаляй комментарии ревьюера, так как они повышают качество повторного ревью.\n",
    "\n",
    "Комментарии будут в <font color='green'>зеленой</font>, <font color='blue'>синей</font> или <font color='red'>красной</font> рамках:\n",
    "\n",
    "<div class=\"alert alert-block alert-success\">\n",
    "<b>Успех👍:</b> Если все сделано отлично\n",
    "</div>\n",
    "\n",
    "<div class=\"alert alert-block alert-info\">\n",
    "<b>Совет🤔: </b> Если можно немного улучшить\n",
    "</div>\n",
    "\n",
    "<div class=\"alert alert-block alert-danger\">\n",
    "<b>Ошибка❌:</b> Если требуются исправления. Работа не может быть принята с красными комментариями.\n",
    "</div>\n",
    "\n",
    "-------------------\n",
    "\n",
    "Будет очень хорошо, если ты будешь помечать свои действия следующим образом:\n",
    "<div class=\"alert alert-block alert-warning\">\n",
    "<b>Комментарий студента:</b> ...\n",
    "</div>\n",
    "\n",
    "<div class=\"alert alert-block alert-warning\">\n",
    "<b>Изменения:</b> Были внесены следующие изменения ...\n",
    "</div>\n",
    "\n",
    "<b><font color='orange'>Вот тебе полезная ссылка, вдруг подчерпнешь что-то новое для себя):</font></b>\n",
    "* Полезная статья о дисбалансе классов: https://habr.com/ru/post/349078/\n",
    "* Полезная статья о auc-roc кривых итп: https://alexanderdyakonov.wordpress.com/2017/07/28/auc-roc-%D0%BF%D0%BB%D0%BE%D1%89%D0%B0%D0%B4%D1%8C-%D0%BF%D0%BE%D0%B4-%D0%BA%D1%80%D0%B8%D0%B2%D0%BE%D0%B9-%D0%BE%D1%88%D0%B8%D0%B1%D0%BE%D0%BA/\n",
    "\n",
    "<b><font color='orange'>Общее впечатление</font></b>\n",
    "* Большое спасибо за проделанную работу. Видно, что ты отлично освоил тему.\n",
    "* Отлично, что ноутбук хорошо структурирован. Приятно проверять такие работы.\n",
    "* Над этим проектом нужно будет еще немного поработать, ведь критические ошибки требуют внимания. Однако, изменения не должны занять много времени.\n",
    "* В работе я оставил несколько советов. Буду рад, если ты учтешь их.\n",
    "* В конце прописал свой комментарий по всему проекту, ознакомься с ним, пожалуйста)\n",
    "* С радостью отвечу на твои вопросы, касательно выданной тебе темы, если они есть. Жду новую версию проекта.)"
   ]
  },
  {
   "cell_type": "markdown",
   "metadata": {
    "toc": true
   },
   "source": [
    "<h1>Содержание<span class=\"tocSkip\"></span></h1>\n",
    "<div class=\"toc\"><ul class=\"toc-item\"><li><span><a href=\"#Подготовка-данных\" data-toc-modified-id=\"Подготовка-данных-1\"><span class=\"toc-item-num\">1&nbsp;&nbsp;</span>Подготовка данных</a></span></li><li><span><a href=\"#Исследование-задачи\" data-toc-modified-id=\"Исследование-задачи-2\"><span class=\"toc-item-num\">2&nbsp;&nbsp;</span>Исследование задачи</a></span></li><li><span><a href=\"#Борьба-с-дисбалансом\" data-toc-modified-id=\"Борьба-с-дисбалансом-3\"><span class=\"toc-item-num\">3&nbsp;&nbsp;</span>Борьба с дисбалансом</a></span></li><li><span><a href=\"#Тестирование-модели\" data-toc-modified-id=\"Тестирование-модели-4\"><span class=\"toc-item-num\">4&nbsp;&nbsp;</span>Тестирование модели</a></span></li><li><span><a href=\"#Чек-лист-готовности-проекта\" data-toc-modified-id=\"Чек-лист-готовности-проекта-5\"><span class=\"toc-item-num\">5&nbsp;&nbsp;</span>Чек-лист готовности проекта</a></span></li><li><span><a href=\"#Общий-вывод-по-проекту\" data-toc-modified-id=\"Общий-вывод-по-проекту-6\"><span class=\"toc-item-num\">6&nbsp;&nbsp;</span><b>Общий вывод по проекту</b></a></span></li><li><span><a href=\"#Общий-вывод-по-проекту-V2\" data-toc-modified-id=\"Общий-вывод-по-проекту-V2-7\"><span class=\"toc-item-num\">7&nbsp;&nbsp;</span><b>Общий вывод по проекту V2</b></a></span></li><li><span><a href=\"#Общий-вывод-по-проекту-V3\" data-toc-modified-id=\"Общий-вывод-по-проекту-V3-8\"><span class=\"toc-item-num\">8&nbsp;&nbsp;</span><b>Общий вывод по проекту V3</b></a></span></li></ul></div>"
   ]
  },
  {
   "cell_type": "markdown",
   "metadata": {},
   "source": [
    "<div class=\"alert alert-block alert-success\">\n",
    "<b>Успех👍:</b> \n",
    "    \n",
    "Круто, что ты расписал содержание, молодец)\n",
    "</div>"
   ]
  },
  {
   "cell_type": "markdown",
   "metadata": {},
   "source": [
    "# Отток клиентов"
   ]
  },
  {
   "cell_type": "markdown",
   "metadata": {},
   "source": [
    "Из «Бета-Банка» стали уходить клиенты. Каждый месяц. Немного, но заметно. Банковские маркетологи посчитали: сохранять текущих клиентов дешевле, чем привлекать новых.\n",
    "\n",
    "Нужно спрогнозировать, уйдёт клиент из банка в ближайшее время или нет. Вам предоставлены исторические данные о поведении клиентов и расторжении договоров с банком. \n",
    "\n",
    "Постройте модель с предельно большим значением *F1*-меры. Чтобы сдать проект успешно, нужно довести метрику до 0.59. Проверьте *F1*-меру на тестовой выборке самостоятельно.\n",
    "\n",
    "Дополнительно измеряйте *AUC-ROC*, сравнивайте её значение с *F1*-мерой.\n",
    "\n",
    "Источник данных: [https://www.kaggle.com/barelydedicated/bank-customer-churn-modeling](https://www.kaggle.com/barelydedicated/bank-customer-churn-modeling)"
   ]
  },
  {
   "cell_type": "markdown",
   "metadata": {},
   "source": [
    "## Подготовка данных"
   ]
  },
  {
   "cell_type": "markdown",
   "metadata": {},
   "source": [
    "Импортируем инструменты, необходимые для подготовки данных"
   ]
  },
  {
   "cell_type": "code",
   "execution_count": 1,
   "metadata": {},
   "outputs": [],
   "source": [
    "import pandas as pd\n",
    "import numpy as np\n",
    "import matplotlib.pyplot as plt\n",
    "from sklearn.model_selection import train_test_split"
   ]
  },
  {
   "cell_type": "markdown",
   "metadata": {},
   "source": [
    "<div class=\"alert alert-block alert-info\">\n",
    "<b>Совет🤔: </b> \n",
    "    \n",
    "Удобно записывать все библиотеки сразу, в одной единственной ячейке сверху, чтобы не потеряться в том, что загрузили, а что нет). Поэтому в следующий раз попробуй загрузить все сразу \n",
    "</div>"
   ]
  },
  {
   "cell_type": "markdown",
   "metadata": {},
   "source": [
    "Посмотрим на данные"
   ]
  },
  {
   "cell_type": "code",
   "execution_count": 2,
   "metadata": {},
   "outputs": [],
   "source": [
    "data = pd.read_csv('/datasets/Churn.csv')"
   ]
  },
  {
   "cell_type": "code",
   "execution_count": 3,
   "metadata": {
    "scrolled": false
   },
   "outputs": [
    {
     "name": "stdout",
     "output_type": "stream",
     "text": [
      "<class 'pandas.core.frame.DataFrame'>\n",
      "RangeIndex: 10000 entries, 0 to 9999\n",
      "Data columns (total 14 columns):\n",
      " #   Column           Non-Null Count  Dtype  \n",
      "---  ------           --------------  -----  \n",
      " 0   RowNumber        10000 non-null  int64  \n",
      " 1   CustomerId       10000 non-null  int64  \n",
      " 2   Surname          10000 non-null  object \n",
      " 3   CreditScore      10000 non-null  int64  \n",
      " 4   Geography        10000 non-null  object \n",
      " 5   Gender           10000 non-null  object \n",
      " 6   Age              10000 non-null  int64  \n",
      " 7   Tenure           9091 non-null   float64\n",
      " 8   Balance          10000 non-null  float64\n",
      " 9   NumOfProducts    10000 non-null  int64  \n",
      " 10  HasCrCard        10000 non-null  int64  \n",
      " 11  IsActiveMember   10000 non-null  int64  \n",
      " 12  EstimatedSalary  10000 non-null  float64\n",
      " 13  Exited           10000 non-null  int64  \n",
      "dtypes: float64(3), int64(8), object(3)\n",
      "memory usage: 1.1+ MB\n"
     ]
    }
   ],
   "source": [
    "data.info()"
   ]
  },
  {
   "cell_type": "markdown",
   "metadata": {},
   "source": [
    "В столбце Tenure существуют пропуски, необходимо их заменить на 0, так как логично предположить, что это новые клиенты банка."
   ]
  },
  {
   "cell_type": "markdown",
   "metadata": {},
   "source": [
    "<div class=\"alert alert-block alert-success\">\n",
    "<b>Успех👍:</b> \n",
    "    \n",
    "Интересная идея, интересная\n",
    "</div>\n",
    "\n",
    "<div class=\"alert alert-block alert-info\">\n",
    "<b>Совет🤔: </b> \n",
    "    \n",
    "Но стоит ли заполнять пропуски теми значениями, которые присутствуют в другом классе, то есть мы повысим количество значений другого класса и внесем перемешку данных, что будет не очень хорошо при обучении модели. Есть другие методы решения: заполнитель (-1) либо заполнить медианой, которая будет сгруппированной по стране, полу и возрастному диапазону\n",
    "</div>"
   ]
  },
  {
   "cell_type": "code",
   "execution_count": 4,
   "metadata": {},
   "outputs": [
    {
     "data": {
      "text/plain": [
       "RowNumber          0\n",
       "CustomerId         0\n",
       "Surname            0\n",
       "CreditScore        0\n",
       "Geography          0\n",
       "Gender             0\n",
       "Age                0\n",
       "Tenure             0\n",
       "Balance            0\n",
       "NumOfProducts      0\n",
       "HasCrCard          0\n",
       "IsActiveMember     0\n",
       "EstimatedSalary    0\n",
       "Exited             0\n",
       "dtype: int64"
      ]
     },
     "execution_count": 4,
     "metadata": {},
     "output_type": "execute_result"
    }
   ],
   "source": [
    "data['Tenure'] = data['Tenure'].fillna(0)\n",
    "data.isna().sum()"
   ]
  },
  {
   "cell_type": "code",
   "execution_count": 5,
   "metadata": {
    "scrolled": false
   },
   "outputs": [
    {
     "data": {
      "text/html": [
       "<div>\n",
       "<style scoped>\n",
       "    .dataframe tbody tr th:only-of-type {\n",
       "        vertical-align: middle;\n",
       "    }\n",
       "\n",
       "    .dataframe tbody tr th {\n",
       "        vertical-align: top;\n",
       "    }\n",
       "\n",
       "    .dataframe thead th {\n",
       "        text-align: right;\n",
       "    }\n",
       "</style>\n",
       "<table border=\"1\" class=\"dataframe\">\n",
       "  <thead>\n",
       "    <tr style=\"text-align: right;\">\n",
       "      <th></th>\n",
       "      <th>RowNumber</th>\n",
       "      <th>CustomerId</th>\n",
       "      <th>Surname</th>\n",
       "      <th>CreditScore</th>\n",
       "      <th>Geography</th>\n",
       "      <th>Gender</th>\n",
       "      <th>Age</th>\n",
       "      <th>Tenure</th>\n",
       "      <th>Balance</th>\n",
       "      <th>NumOfProducts</th>\n",
       "      <th>HasCrCard</th>\n",
       "      <th>IsActiveMember</th>\n",
       "      <th>EstimatedSalary</th>\n",
       "      <th>Exited</th>\n",
       "    </tr>\n",
       "  </thead>\n",
       "  <tbody>\n",
       "    <tr>\n",
       "      <th>0</th>\n",
       "      <td>1</td>\n",
       "      <td>15634602</td>\n",
       "      <td>Hargrave</td>\n",
       "      <td>619</td>\n",
       "      <td>France</td>\n",
       "      <td>Female</td>\n",
       "      <td>42</td>\n",
       "      <td>2.0</td>\n",
       "      <td>0.00</td>\n",
       "      <td>1</td>\n",
       "      <td>1</td>\n",
       "      <td>1</td>\n",
       "      <td>101348.88</td>\n",
       "      <td>1</td>\n",
       "    </tr>\n",
       "    <tr>\n",
       "      <th>1</th>\n",
       "      <td>2</td>\n",
       "      <td>15647311</td>\n",
       "      <td>Hill</td>\n",
       "      <td>608</td>\n",
       "      <td>Spain</td>\n",
       "      <td>Female</td>\n",
       "      <td>41</td>\n",
       "      <td>1.0</td>\n",
       "      <td>83807.86</td>\n",
       "      <td>1</td>\n",
       "      <td>0</td>\n",
       "      <td>1</td>\n",
       "      <td>112542.58</td>\n",
       "      <td>0</td>\n",
       "    </tr>\n",
       "    <tr>\n",
       "      <th>2</th>\n",
       "      <td>3</td>\n",
       "      <td>15619304</td>\n",
       "      <td>Onio</td>\n",
       "      <td>502</td>\n",
       "      <td>France</td>\n",
       "      <td>Female</td>\n",
       "      <td>42</td>\n",
       "      <td>8.0</td>\n",
       "      <td>159660.80</td>\n",
       "      <td>3</td>\n",
       "      <td>1</td>\n",
       "      <td>0</td>\n",
       "      <td>113931.57</td>\n",
       "      <td>1</td>\n",
       "    </tr>\n",
       "    <tr>\n",
       "      <th>3</th>\n",
       "      <td>4</td>\n",
       "      <td>15701354</td>\n",
       "      <td>Boni</td>\n",
       "      <td>699</td>\n",
       "      <td>France</td>\n",
       "      <td>Female</td>\n",
       "      <td>39</td>\n",
       "      <td>1.0</td>\n",
       "      <td>0.00</td>\n",
       "      <td>2</td>\n",
       "      <td>0</td>\n",
       "      <td>0</td>\n",
       "      <td>93826.63</td>\n",
       "      <td>0</td>\n",
       "    </tr>\n",
       "    <tr>\n",
       "      <th>4</th>\n",
       "      <td>5</td>\n",
       "      <td>15737888</td>\n",
       "      <td>Mitchell</td>\n",
       "      <td>850</td>\n",
       "      <td>Spain</td>\n",
       "      <td>Female</td>\n",
       "      <td>43</td>\n",
       "      <td>2.0</td>\n",
       "      <td>125510.82</td>\n",
       "      <td>1</td>\n",
       "      <td>1</td>\n",
       "      <td>1</td>\n",
       "      <td>79084.10</td>\n",
       "      <td>0</td>\n",
       "    </tr>\n",
       "  </tbody>\n",
       "</table>\n",
       "</div>"
      ],
      "text/plain": [
       "   RowNumber  CustomerId   Surname  CreditScore Geography  Gender  Age  \\\n",
       "0          1    15634602  Hargrave          619    France  Female   42   \n",
       "1          2    15647311      Hill          608     Spain  Female   41   \n",
       "2          3    15619304      Onio          502    France  Female   42   \n",
       "3          4    15701354      Boni          699    France  Female   39   \n",
       "4          5    15737888  Mitchell          850     Spain  Female   43   \n",
       "\n",
       "   Tenure    Balance  NumOfProducts  HasCrCard  IsActiveMember  \\\n",
       "0     2.0       0.00              1          1               1   \n",
       "1     1.0   83807.86              1          0               1   \n",
       "2     8.0  159660.80              3          1               0   \n",
       "3     1.0       0.00              2          0               0   \n",
       "4     2.0  125510.82              1          1               1   \n",
       "\n",
       "   EstimatedSalary  Exited  \n",
       "0        101348.88       1  \n",
       "1        112542.58       0  \n",
       "2        113931.57       1  \n",
       "3         93826.63       0  \n",
       "4         79084.10       0  "
      ]
     },
     "execution_count": 5,
     "metadata": {},
     "output_type": "execute_result"
    }
   ],
   "source": [
    "data.head()"
   ]
  },
  {
   "cell_type": "markdown",
   "metadata": {},
   "source": [
    "Так как данные в объектах не все являются числовыми, а наша задача является задачей классификации, то для того, чтобы применять такие ML-модели классификации, необходимо применить прямое кодирование. После чего, разделить выборки на обучающую, валидационную и тестовую выборки. "
   ]
  },
  {
   "cell_type": "markdown",
   "metadata": {},
   "source": [
    "<div class=\"alert alert-block alert-success\">\n",
    "<b>Успех👍:</b> \n",
    "    \n",
    "Интересная идея, я согласен с тобой \n",
    "</div>\n",
    "\n",
    "<div class=\"alert alert-block alert-danger\">\n",
    "<b>Ошибка❌:</b> \n",
    "    \n",
    "Но у тебя в таблице остались мусорные признаки, которые сильно ухудшат работу модели + ты во-много раз расширил себе размер датасета, создав огромное количество новых признаков. Вначале удали лишние признаки, потом определи, какие признаки надо преобразовать и только потом начинай преобразование\n",
    "</div>"
   ]
  },
  {
   "cell_type": "markdown",
   "metadata": {},
   "source": [
    "<div class=\"alert alert-block alert-warning\">\n",
    "<b>Комментарий студента:</b> Исправил\n",
    "</div>"
   ]
  },
  {
   "cell_type": "markdown",
   "metadata": {},
   "source": [
    "<div class=\"alert alert-block alert-success\">\n",
    "<b>Успех👍 V2:</b> \n",
    "    \n",
    "Заметил, так держать)\n",
    "</div>"
   ]
  },
  {
   "cell_type": "code",
   "execution_count": 6,
   "metadata": {},
   "outputs": [],
   "source": [
    "data_new = data.drop(['RowNumber', 'CustomerId', 'Surname'], axis=1)\n"
   ]
  },
  {
   "cell_type": "code",
   "execution_count": 7,
   "metadata": {},
   "outputs": [],
   "source": [
    "data_ohe = pd.get_dummies(data_new, drop_first=True)"
   ]
  },
  {
   "cell_type": "code",
   "execution_count": 8,
   "metadata": {},
   "outputs": [],
   "source": [
    "features = data_ohe.drop(['Exited'], axis=1)\n",
    "target = data_ohe['Exited']\n",
    "features_train_valid, features_test, target_train_valid, target_test = train_test_split(features, target, test_size=0.2, random_state=12345)\n",
    "features_train, features_valid, target_train, target_valid = train_test_split(features_train_valid, target_train_valid, test_size=0.25, random_state=12345)\n"
   ]
  },
  {
   "cell_type": "code",
   "execution_count": 9,
   "metadata": {
    "scrolled": false
   },
   "outputs": [
    {
     "name": "stdout",
     "output_type": "stream",
     "text": [
      "(6000, 11)\n",
      "(2000, 11)\n",
      "(2000, 11)\n"
     ]
    }
   ],
   "source": [
    "print(features_train.shape)\n",
    "print(features_valid.shape)\n",
    "print(features_test.shape)"
   ]
  },
  {
   "cell_type": "markdown",
   "metadata": {},
   "source": [
    "<div class=\"alert alert-block alert-success\">\n",
    "<b>Успех👍:</b> \n",
    "    \n",
    "А так, алгоритм действий верный, все четко сделал, молодец)\n",
    "</div>"
   ]
  },
  {
   "cell_type": "markdown",
   "metadata": {},
   "source": [
    "## Исследование задачи"
   ]
  },
  {
   "cell_type": "markdown",
   "metadata": {},
   "source": [
    "Так как мы имеем дело с задачей классификацией\n",
    "Импортируем модели машинного обучения: логистическую регрессию, решающее дерево и случайный лес."
   ]
  },
  {
   "cell_type": "code",
   "execution_count": 10,
   "metadata": {},
   "outputs": [],
   "source": [
    "from sklearn.linear_model import LogisticRegression\n",
    "from sklearn.tree import DecisionTreeClassifier\n",
    "from sklearn.ensemble import RandomForestClassifier"
   ]
  },
  {
   "cell_type": "markdown",
   "metadata": {},
   "source": [
    "Импортируем инструменты, которые необходимы для оценки обученных моделей."
   ]
  },
  {
   "cell_type": "code",
   "execution_count": 11,
   "metadata": {},
   "outputs": [],
   "source": [
    "from sklearn.metrics import accuracy_score, precision_score, recall_score, f1_score, roc_curve, roc_auc_score\n",
    "from sklearn.utils import shuffle\n",
    "\n"
   ]
  },
  {
   "cell_type": "markdown",
   "metadata": {},
   "source": [
    "<div class=\"alert alert-block alert-danger\">\n",
    "<b>Ошибка❌:</b> \n",
    "    \n",
    "Снизу перебора гиперпараметров нет (у леса просмотрена только глубина, можно еще прогнать количество деревьев). Добавь перебор гиперпараметров: у лог регрессии можно C и max_iter, у дерева глубину дерева и min_samples_leaf, у леса количество деревьев. Лучше подбирать их вместе, ведь результат можент разниться от гиперпараметра к гиперпараметру \n",
    "    \n",
    "Также я не заметил на этом этапе проверку метрики auc-roc, добавь ее пожалуйста\n",
    "</div>"
   ]
  },
  {
   "cell_type": "markdown",
   "metadata": {},
   "source": [
    "<div class=\"alert alert-block alert-warning\">\n",
    "<b>Комментарий студента:</b> Исправил\n",
    "</div>"
   ]
  },
  {
   "cell_type": "markdown",
   "metadata": {},
   "source": [
    "<div class=\"alert alert-block alert-success\">\n",
    "<b>Успех👍 V2:</b> \n",
    "    \n",
    "Да, вижу, прекрасно сработано)\n",
    "</div>"
   ]
  },
  {
   "cell_type": "markdown",
   "metadata": {},
   "source": [
    "Обучим модель логистической регрессии"
   ]
  },
  {
   "cell_type": "code",
   "execution_count": 12,
   "metadata": {
    "scrolled": true
   },
   "outputs": [
    {
     "name": "stdout",
     "output_type": "stream",
     "text": [
      "Best F1: 0.10290827740492169\n",
      "Best iteration: 100\n"
     ]
    }
   ],
   "source": [
    "lg_best_iter = 0\n",
    "lg_best_f1 = 0\n",
    "\n",
    "for iterat in range(100, 1000, 50):\n",
    "    model = LogisticRegression(solver='liblinear', max_iter=iterat, random_state=12345)\n",
    "    model.fit(features_train, target_train)\n",
    "    predict_valid = model.predict(features_valid)\n",
    "    f1 = f1_score(target_valid, predict_valid)\n",
    "    if f1 > lg_best_f1:\n",
    "        lg_best_f1 = f1\n",
    "        lg_best_iter = iterat\n",
    "\n",
    "print('Best F1:', lg_best_f1)\n",
    "print('Best iteration:', lg_best_iter)\n"
   ]
  },
  {
   "cell_type": "code",
   "execution_count": 13,
   "metadata": {},
   "outputs": [
    {
     "name": "stdout",
     "output_type": "stream",
     "text": [
      "Accuracy train 0.7915\n",
      "Accuracy valid 0.7995\n",
      "AUC-ROC: 0.6812399561927076\n"
     ]
    }
   ],
   "source": [
    "model = LogisticRegression(solver='liblinear', max_iter=lg_best_iter, random_state=12345)\n",
    "model.fit(features_train, target_train)\n",
    "\n",
    "predict_train = model.predict(features_train)\n",
    "predict_valid = model.predict(features_valid)\n",
    "\n",
    "probabilities_valid = model.predict_proba(features_valid)\n",
    "probabilities_one_valid = probabilities_valid[:, 1]\n",
    "\n",
    "print('Accuracy train', accuracy_score(target_train, predict_train))\n",
    "print('Accuracy valid', accuracy_score(target_valid, predict_valid))\n",
    "\n",
    "auc_roc = roc_auc_score(target_valid, probabilities_one_valid)\n",
    "print('AUC-ROC:', auc_roc)"
   ]
  },
  {
   "cell_type": "markdown",
   "metadata": {},
   "source": [
    "<div class=\"alert alert-block alert-success\">\n",
    "<b>Успех👍:</b> \n",
    "    \n",
    "Эх, логистическая регрессия показала не самый лучший результат. Дисбаланс дает о себе знать\n",
    "</div>"
   ]
  },
  {
   "cell_type": "markdown",
   "metadata": {},
   "source": [
    "Обучим модель решающего дерева"
   ]
  },
  {
   "cell_type": "code",
   "execution_count": 14,
   "metadata": {
    "scrolled": true
   },
   "outputs": [
    {
     "name": "stdout",
     "output_type": "stream",
     "text": [
      "Best F1: 0.5685131195335276\n",
      "Best depth: 10\n",
      "Best leaf: 15\n"
     ]
    }
   ],
   "source": [
    "dt_best_f1 = 0\n",
    "dt_best_depth = 0\n",
    "dt_best_leafs = 0\n",
    "\n",
    "for depth in range(1, 25, 1):\n",
    "    for leaf in range(1, 30, 1):\n",
    "        model = DecisionTreeClassifier(max_depth=depth, min_samples_leaf=leaf, random_state=12345)\n",
    "        model.fit(features_train, target_train)\n",
    "        predict_valid = model.predict(features_valid)\n",
    "        f1 = f1_score(target_valid, predict_valid)\n",
    "        if f1 > dt_best_f1:\n",
    "            dt_best_f1 = f1\n",
    "            dt_best_depth = depth\n",
    "            dt_best_leafs = leaf\n",
    "\n",
    "print('Best F1:', dt_best_f1)\n",
    "print('Best depth:', dt_best_depth)\n",
    "print('Best leaf:', dt_best_leafs)\n",
    "\n"
   ]
  },
  {
   "cell_type": "code",
   "execution_count": 15,
   "metadata": {},
   "outputs": [
    {
     "name": "stdout",
     "output_type": "stream",
     "text": [
      "Accuracy train 0.8771666666666667\n",
      "Accuracy valid 0.852\n",
      "AUC-ROC: 0.7999527911253674\n"
     ]
    }
   ],
   "source": [
    "model = DecisionTreeClassifier(max_depth=dt_best_depth, min_samples_leaf=dt_best_leafs, random_state=12345)\n",
    "model.fit(features_train, target_train)\n",
    "\n",
    "predict_train = model.predict(features_train)\n",
    "predict_valid = model.predict(features_valid)\n",
    "\n",
    "probabilities_valid = model.predict_proba(features_valid)\n",
    "probabilities_one_valid = probabilities_valid[:, 1]\n",
    "\n",
    "print('Accuracy train', accuracy_score(target_train, predict_train))\n",
    "print('Accuracy valid', accuracy_score(target_valid, predict_valid))\n",
    "\n",
    "auc_roc = roc_auc_score(target_valid, probabilities_one_valid)\n",
    "print('AUC-ROC:', auc_roc)"
   ]
  },
  {
   "cell_type": "markdown",
   "metadata": {},
   "source": [
    "<div class=\"alert alert-block alert-success\">\n",
    "<b>Успех👍:</b> \n",
    "    \n",
    "У дерева результат не особо хороший, но все же, лучше чем у лог регрессии\n",
    "</div>"
   ]
  },
  {
   "cell_type": "markdown",
   "metadata": {},
   "source": [
    "Обучим модель случайного леса"
   ]
  },
  {
   "cell_type": "code",
   "execution_count": 16,
   "metadata": {},
   "outputs": [
    {
     "name": "stdout",
     "output_type": "stream",
     "text": [
      "Best F1: 0.5691318327974277\n",
      "Best depth: 13\n",
      "Best est: 40\n"
     ]
    }
   ],
   "source": [
    "fr_best_f1 = 0\n",
    "fr_best_depth = 0\n",
    "fr_best_est = 0\n",
    "for est in range(5, 100, 5):\n",
    "    for depth in range(1, 16, 1):\n",
    "        model = RandomForestClassifier(n_estimators=est, max_depth=depth, random_state=12345)\n",
    "        model.fit(features_train, target_train)\n",
    "        predict_valid = model.predict(features_valid)\n",
    "        f1 = f1_score(target_valid, predict_valid)\n",
    "        if f1 > fr_best_f1:\n",
    "            fr_best_f1 = f1\n",
    "            fr_best_depth = depth\n",
    "            fr_best_est = est\n",
    "            \n",
    "print('Best F1:', fr_best_f1)\n",
    "print('Best depth:', fr_best_depth)\n",
    "print('Best est:', fr_best_est)\n"
   ]
  },
  {
   "cell_type": "code",
   "execution_count": 17,
   "metadata": {},
   "outputs": [
    {
     "name": "stdout",
     "output_type": "stream",
     "text": [
      "Accuracy train 0.9538333333333333\n",
      "Accuracy valid 0.866\n",
      "AUC-ROC: 0.8423676601723998\n"
     ]
    }
   ],
   "source": [
    "model = RandomForestClassifier(n_estimators=fr_best_est, max_depth=fr_best_depth, random_state=12345)\n",
    "model.fit(features_train, target_train)\n",
    "\n",
    "predict_train = model.predict(features_train)\n",
    "predict_valid = model.predict(features_valid)\n",
    "\n",
    "probabilities_valid = model.predict_proba(features_valid)\n",
    "probabilities_one_valid = probabilities_valid[:, 1]\n",
    "\n",
    "print('Accuracy train', accuracy_score(target_train, predict_train))\n",
    "print('Accuracy valid', accuracy_score(target_valid, predict_valid))\n",
    "\n",
    "auc_roc = roc_auc_score(target_valid, probabilities_one_valid)\n",
    "print('AUC-ROC:', auc_roc)"
   ]
  },
  {
   "cell_type": "markdown",
   "metadata": {},
   "source": [
    "<div class=\"alert alert-block alert-success\">\n",
    "<b>Успех👍:</b> \n",
    "    \n",
    "Случилось невиданное - лес оказался хуже дерева, интересный момент\n",
    "</div>"
   ]
  },
  {
   "cell_type": "markdown",
   "metadata": {},
   "source": [
    "Все модели не удовлетворяют требованиям поставленной задачи. Самое высокое значение у F1 равно 0.5691. Проблема качества модели скорее всего в дисбалансе классов, то есть значащие параметры \"весят\" меньше, чем наименее значащие. \\\n",
    "Однако стоит заметить, что ML-моделям не свойственно переобучаться, что было показано в значении accuracy обучающей и валидационной выборках."
   ]
  },
  {
   "cell_type": "markdown",
   "metadata": {},
   "source": [
    "<div class=\"alert alert-block alert-success\">\n",
    "<b>Успех👍:</b> \n",
    "    \n",
    "Интересный вывод, интересный\n",
    "</div>"
   ]
  },
  {
   "cell_type": "markdown",
   "metadata": {},
   "source": [
    "## Борьба с дисбалансом"
   ]
  },
  {
   "cell_type": "markdown",
   "metadata": {},
   "source": [
    "**Сбалансируем модель, протестируем работу Логистической регрессии**"
   ]
  },
  {
   "cell_type": "code",
   "execution_count": 18,
   "metadata": {},
   "outputs": [
    {
     "name": "stdout",
     "output_type": "stream",
     "text": [
      "F1 0.4773310521813516\n"
     ]
    }
   ],
   "source": [
    "model = LogisticRegression(solver='liblinear', max_iter=lg_best_iter, random_state=12345, class_weight='balanced')\n",
    "model.fit(features_train, target_train)\n",
    "\n",
    "predict_valid = model.predict(features_valid)\n",
    "print('F1', f1_score(target_valid, predict_valid))\n"
   ]
  },
  {
   "cell_type": "markdown",
   "metadata": {},
   "source": [
    "<div class=\"alert alert-block alert-success\">\n",
    "<b>Успех👍:</b> \n",
    "    \n",
    "Да, данный гиперпараметр можно использовать как метод борьбы с дисбалансом классов, молодец). Также круто, что лог регрессия выросла на хороший уровень, по сравнению с предыдущим значением\n",
    "</div>"
   ]
  },
  {
   "cell_type": "markdown",
   "metadata": {},
   "source": [
    "Узнаем, как много положительных и отрицательных объектов в обучающей выборке"
   ]
  },
  {
   "cell_type": "code",
   "execution_count": 19,
   "metadata": {},
   "outputs": [
    {
     "name": "stdout",
     "output_type": "stream",
     "text": [
      "(1219, 11)\n",
      "(4781, 11)\n",
      "(1219,)\n",
      "(4781,)\n"
     ]
    }
   ],
   "source": [
    "features_ones = features_train[target_train == 1]\n",
    "features_zeros = features_train[target_train == 0]\n",
    "target_ones = target_train[target_train == 1]\n",
    "target_zeros = target_train[target_train == 0]\n",
    "\n",
    "print(features_ones.shape)\n",
    "print(features_zeros.shape)\n",
    "print(target_ones.shape)\n",
    "print(target_zeros.shape)"
   ]
  },
  {
   "cell_type": "markdown",
   "metadata": {},
   "source": [
    "Количество положительных превосходит отрицательные примерно в 4 раза. Это существенное отличие в обучающей выборке, поэтому стоит изменить ."
   ]
  },
  {
   "cell_type": "code",
   "execution_count": 20,
   "metadata": {},
   "outputs": [],
   "source": [
    "features_upsampled = pd.concat([features_zeros] + [features_ones] * 4)\n",
    "target_upsampled = pd.concat([target_zeros] + [target_ones] * 4)\n",
    "\n",
    "features_upsampled, target_upsampled = shuffle(features_upsampled, target_upsampled, random_state=12345)\n",
    "\n"
   ]
  },
  {
   "cell_type": "markdown",
   "metadata": {},
   "source": [
    "<div class=\"alert alert-block alert-danger\">\n",
    "<b>Ошибка❌:</b> \n",
    "    \n",
    "Разница в четыре раза это уже не малова-то, уже нужно применять какой нибудь из методов для балансировки данных. Если не хочешь делать up/down sampling, то просто сделай отдельно class_weight и thresholds\n",
    "</div>"
   ]
  },
  {
   "cell_type": "markdown",
   "metadata": {},
   "source": [
    "<div class=\"alert alert-block alert-success\">\n",
    "<b>Успех👍 V2:</b> \n",
    "    \n",
    "Вижу ты исправил свой текст, круто)\n",
    "    \n",
    "Также заметил твой метод upsampling, так держать)\n",
    "</div>"
   ]
  },
  {
   "cell_type": "markdown",
   "metadata": {},
   "source": [
    "Применим два метода по устранению дисбаланса классов\n",
    "1. Upsampling \n",
    "2. class_weight='balanced'"
   ]
  },
  {
   "cell_type": "markdown",
   "metadata": {},
   "source": [
    "<b><font color='green'>Метод class_weight='balanced'</font></b>"
   ]
  },
  {
   "cell_type": "code",
   "execution_count": 38,
   "metadata": {},
   "outputs": [
    {
     "name": "stdout",
     "output_type": "stream",
     "text": [
      "Лучший порог = 0.54 | Лучший F1 = 0.492\n"
     ]
    }
   ],
   "source": [
    "model = LogisticRegression(solver='liblinear', random_state=12345, class_weight='balanced')\n",
    "model.fit(features_train, target_train)\n",
    "\n",
    "probabilities_valid = model.predict_proba(features_valid)\n",
    "probabilities_one_valid = probabilities_valid[:, 1]\n",
    "\n",
    "best_threshold = 0\n",
    "best_f1 = 0\n",
    "\n",
    "for threshold in np.arange(0, 0.8, 0.02):\n",
    "    predict_valid = probabilities_one_valid > threshold\n",
    "    f1 = f1_score(target_valid, predict_valid)\n",
    "    if f1 > best_f1:\n",
    "        best_f1 = f1\n",
    "        best_threshold = threshold\n",
    "    \n",
    "print(\"Лучший порог = {:.2f} | Лучший F1 = {:.3f}\".format(best_threshold, best_f1))"
   ]
  },
  {
   "cell_type": "markdown",
   "metadata": {},
   "source": [
    "Лучшее значение F1 = 0.49 при пороге = 0.54 \\\n",
    "Теперь проверим значение метрики AUC-ROC, но для начала построим эту кривую "
   ]
  },
  {
   "cell_type": "code",
   "execution_count": 39,
   "metadata": {
    "scrolled": true
   },
   "outputs": [
    {
     "data": {
      "image/png": "[encoded data removed]",
      "text/plain": [
       "<Figure size 432x288 with 1 Axes>"
      ]
     },
     "metadata": {
      "needs_background": "light"
     },
     "output_type": "display_data"
    }
   ],
   "source": [
    "fpr, tpr, threshold = roc_curve(target_valid, probabilities_one_valid)\n",
    "\n",
    "plt.figure()\n",
    "plt.plot([0, 1], [0, 1], linestyle='--')\n",
    "plt.plot(fpr, tpr, linestyle='-')\n",
    "\n",
    "plt.xlim([0, 1])\n",
    "plt.ylim([0, 1])\n",
    "\n",
    "plt.xlabel('False Positive Rate')\n",
    "plt.ylabel('True Positive Rate')\n",
    "\n",
    "plt.title('ROC-кривая')\n",
    "\n",
    "plt.show()"
   ]
  },
  {
   "cell_type": "code",
   "execution_count": 40,
   "metadata": {},
   "outputs": [
    {
     "name": "stdout",
     "output_type": "stream",
     "text": [
      "AUC-ROC: 0.7694108745722192\n"
     ]
    }
   ],
   "source": [
    "auc_roc = roc_auc_score(target_valid, probabilities_one_valid)\n",
    "print('AUC-ROC:', auc_roc)"
   ]
  },
  {
   "cell_type": "markdown",
   "metadata": {},
   "source": [
    "Сравним значения лучшее значение F1 и AUC-ROC"
   ]
  },
  {
   "cell_type": "code",
   "execution_count": 41,
   "metadata": {
    "scrolled": true
   },
   "outputs": [
    {
     "name": "stdout",
     "output_type": "stream",
     "text": [
      "F1: 0.49227799227799224\n",
      "AUC-ROC: 0.7694108745722192\n"
     ]
    }
   ],
   "source": [
    "predict_valid = probabilities_one_valid > best_threshold\n",
    "f1 = f1_score(target_valid, predict_valid)\n",
    "print('F1:', f1)\n",
    "print('AUC-ROC:', auc_roc)"
   ]
  },
  {
   "cell_type": "markdown",
   "metadata": {},
   "source": [
    "Показатель AUC-ROC как и показатель F1 должны быть как можно выше, чем ближе к 1, тем качественнее модель. Показатель F1 не удовлетворяет условию задачи. Необходимо провести то же исследование для других моделей классификации."
   ]
  },
  {
   "cell_type": "markdown",
   "metadata": {},
   "source": [
    "<b><font color='green'>Метод Upsampling</font></b>"
   ]
  },
  {
   "cell_type": "code",
   "execution_count": 21,
   "metadata": {
    "scrolled": true
   },
   "outputs": [
    {
     "name": "stdout",
     "output_type": "stream",
     "text": [
      "Лучший порог = 0.56 | Лучший F1 = 0.450\n"
     ]
    }
   ],
   "source": [
    "model = LogisticRegression(solver='liblinear', random_state=12345)\n",
    "model.fit(features_upsampled, target_upsampled)\n",
    "\n",
    "probabilities_valid = model.predict_proba(features_valid)\n",
    "probabilities_one_valid = probabilities_valid[:, 1]\n",
    "\n",
    "best_threshold = 0\n",
    "best_f1 = 0\n",
    "\n",
    "for threshold in np.arange(0, 0.8, 0.02):\n",
    "    predict_valid = probabilities_one_valid > threshold\n",
    "    f1 = f1_score(target_valid, predict_valid)\n",
    "    if f1 > best_f1:\n",
    "        best_f1 = f1\n",
    "        best_threshold = threshold\n",
    "    \n",
    "print(\"Лучший порог = {:.2f} | Лучший F1 = {:.3f}\".format(best_threshold, best_f1))\n",
    "\n"
   ]
  },
  {
   "cell_type": "markdown",
   "metadata": {},
   "source": [
    "<div class=\"alert alert-block alert-success\">\n",
    "<b>Успех👍:</b> \n",
    "    \n",
    "Окей, их можно использовать вместе, но тогда это будет счиататься за один метод борьбы с дисбалансом\n",
    "</div>"
   ]
  },
  {
   "cell_type": "markdown",
   "metadata": {},
   "source": [
    "Лучшее значение F1 = 0.45 при пороге = 0.56 \\\n",
    "Теперь проверим значение метрики AUC-ROC, но для начала построим эту кривую "
   ]
  },
  {
   "cell_type": "code",
   "execution_count": 22,
   "metadata": {
    "scrolled": true
   },
   "outputs": [
    {
     "data": {
      "image/png": "[encoded data removed]",
      "text/plain": [
       "<Figure size 432x288 with 1 Axes>"
      ]
     },
     "metadata": {
      "needs_background": "light"
     },
     "output_type": "display_data"
    }
   ],
   "source": [
    "fpr, tpr, threshold = roc_curve(target_valid, probabilities_one_valid)\n",
    "\n",
    "plt.figure()\n",
    "plt.plot([0, 1], [0, 1], linestyle='--')\n",
    "plt.plot(fpr, tpr, linestyle='-')\n",
    "\n",
    "plt.xlim([0, 1])\n",
    "plt.ylim([0, 1])\n",
    "\n",
    "plt.xlabel('False Positive Rate')\n",
    "plt.ylabel('True Positive Rate')\n",
    "\n",
    "plt.title('ROC-кривая')\n",
    "\n",
    "plt.show()"
   ]
  },
  {
   "cell_type": "code",
   "execution_count": 23,
   "metadata": {},
   "outputs": [
    {
     "name": "stdout",
     "output_type": "stream",
     "text": [
      "AUC-ROC: 0.7170344561203843\n"
     ]
    }
   ],
   "source": [
    "auc_roc = roc_auc_score(target_valid, probabilities_one_valid)\n",
    "print('AUC-ROC:', auc_roc)"
   ]
  },
  {
   "cell_type": "markdown",
   "metadata": {},
   "source": [
    "<div class=\"alert alert-block alert-success\">\n",
    "<b>Успех👍:</b> \n",
    "    \n",
    "Вот результат roc-кривой меня радует, класс. И график еще прикольный, так держать)\n",
    "</div>"
   ]
  },
  {
   "cell_type": "markdown",
   "metadata": {},
   "source": [
    "Сравним значения лучшее значение F1 и AUC-ROC"
   ]
  },
  {
   "cell_type": "code",
   "execution_count": 24,
   "metadata": {
    "scrolled": true
   },
   "outputs": [
    {
     "name": "stdout",
     "output_type": "stream",
     "text": [
      "F1: 0.4496578690127077\n",
      "AUC-ROC: 0.7170344561203843\n"
     ]
    }
   ],
   "source": [
    "predict_valid = probabilities_one_valid > best_threshold\n",
    "f1 = f1_score(target_valid, predict_valid)\n",
    "print('F1:', f1)\n",
    "print('AUC-ROC:', auc_roc)"
   ]
  },
  {
   "cell_type": "markdown",
   "metadata": {},
   "source": [
    "<div class=\"alert alert-block alert-success\">\n",
    "<b>Успех👍:</b> \n",
    "    \n",
    "Результаты неплохие, но качество ниже требуемого\n",
    "</div>"
   ]
  },
  {
   "cell_type": "markdown",
   "metadata": {},
   "source": [
    "Показатель AUC-ROC как и показатель F1 должны быть как можно выше, чем ближе к 1, тем качественнее модель. Показатель F1 не удовлетворяет условию задачи. Необходимо провести то же исследование для других моделей классификации."
   ]
  },
  {
   "cell_type": "markdown",
   "metadata": {},
   "source": [
    "<b><font color='green'>Общий вывод двух методов</font></b>"
   ]
  },
  {
   "cell_type": "markdown",
   "metadata": {},
   "source": [
    "Для Логистической регрессии больше подходит метод class_weight: показатель F1 выше"
   ]
  },
  {
   "cell_type": "markdown",
   "metadata": {},
   "source": [
    "**Сбалансируем и протестируем работу модели решающего дерева**"
   ]
  },
  {
   "cell_type": "markdown",
   "metadata": {},
   "source": [
    "<b><font color='green'>Метод class_weight='balanced'</font></b>"
   ]
  },
  {
   "cell_type": "code",
   "execution_count": 42,
   "metadata": {},
   "outputs": [
    {
     "name": "stdout",
     "output_type": "stream",
     "text": [
      "Best F1 0.5587044534412956\n",
      "Best depth 6\n"
     ]
    }
   ],
   "source": [
    "best_f1 = 0\n",
    "best_depth = 0\n",
    "for depth in range(1, 25, 1):\n",
    "    model = DecisionTreeClassifier(random_state=12345, max_depth=depth, class_weight='balanced')\n",
    "    model.fit(features_train, target_train)\n",
    "    predict_valid = model.predict(features_valid)\n",
    "    f1 = f1_score(target_valid, predict_valid)\n",
    "    if f1 > best_f1:\n",
    "        best_f1 = f1\n",
    "        best_depth = depth\n",
    "print('Best F1', best_f1)\n",
    "print('Best depth', best_depth)"
   ]
  },
  {
   "cell_type": "markdown",
   "metadata": {},
   "source": [
    "Модель решающего дерева существенно лучше. Применим метод порога классификации"
   ]
  },
  {
   "cell_type": "code",
   "execution_count": 43,
   "metadata": {},
   "outputs": [
    {
     "name": "stdout",
     "output_type": "stream",
     "text": [
      "Лучший порог = 0.58 | Лучший F1 = 0.565\n"
     ]
    }
   ],
   "source": [
    "model = DecisionTreeClassifier(random_state=12345, max_depth=best_depth, class_weight='balanced')\n",
    "model.fit(features_train, target_train)\n",
    "\n",
    "probabilities_valid = model.predict_proba(features_valid)\n",
    "probabilities_one_valid = probabilities_valid[:, 1]\n",
    "\n",
    "best_threshold = 0\n",
    "best_f1 = 0\n",
    "\n",
    "for threshold in np.arange(0, 0.8, 0.02):\n",
    "    predict_valid = probabilities_one_valid > threshold\n",
    "    f1 = f1_score(target_valid, predict_valid)\n",
    "    if f1 > best_f1:\n",
    "        best_f1 = f1\n",
    "        best_threshold = threshold\n",
    "        \n",
    "print(\"Лучший порог = {:.2f} | Лучший F1 = {:.3f}\".format(best_threshold, best_f1))"
   ]
  },
  {
   "cell_type": "markdown",
   "metadata": {},
   "source": [
    "Проверим значение метрики AUC-ROC, но для начала построим эту кривую "
   ]
  },
  {
   "cell_type": "code",
   "execution_count": 44,
   "metadata": {},
   "outputs": [
    {
     "data": {
      "image/png": "[encoded data removed]",
      "text/plain": [
       "<Figure size 432x288 with 1 Axes>"
      ]
     },
     "metadata": {
      "needs_background": "light"
     },
     "output_type": "display_data"
    }
   ],
   "source": [
    "fpr, tpr, threshold = roc_curve(target_valid, probabilities_one_valid)\n",
    "\n",
    "plt.figure()\n",
    "plt.plot([0, 1], [0, 1], linestyle='--')\n",
    "plt.plot(fpr, tpr, linestyle='-')\n",
    "\n",
    "plt.xlim([0, 1])\n",
    "plt.ylim([0, 1])\n",
    "\n",
    "plt.xlabel('False Positive Rate')\n",
    "plt.ylabel('True Positive Rate')\n",
    "\n",
    "plt.title('ROC-кривая')\n",
    "\n",
    "plt.show()"
   ]
  },
  {
   "cell_type": "code",
   "execution_count": 45,
   "metadata": {
    "scrolled": true
   },
   "outputs": [
    {
     "name": "stdout",
     "output_type": "stream",
     "text": [
      "AUC-ROC: 0.8089018134883863\n"
     ]
    }
   ],
   "source": [
    "auc_roc = roc_auc_score(target_valid, probabilities_one_valid)\n",
    "print('AUC-ROC:', auc_roc)"
   ]
  },
  {
   "cell_type": "markdown",
   "metadata": {},
   "source": [
    "Сравним значения лучшее значение F1 и AUC-ROC"
   ]
  },
  {
   "cell_type": "code",
   "execution_count": 46,
   "metadata": {},
   "outputs": [
    {
     "name": "stdout",
     "output_type": "stream",
     "text": [
      "F1: 0.5648050579557429\n",
      "AUC-ROC: 0.8089018134883863\n"
     ]
    }
   ],
   "source": [
    "predict_valid = probabilities_one_valid > best_threshold\n",
    "f1 = f1_score(target_valid, predict_valid)\n",
    "print('F1:', f1)\n",
    "print('AUC-ROC:', auc_roc)"
   ]
  },
  {
   "cell_type": "markdown",
   "metadata": {},
   "source": [
    "Показатель AUC-ROC как и показатель F1 должны быть как можно выше, чем ближе к 1, тем качественнее модель. Показатель F1 уже гораздо лучше в решающем дереве, чем в логистической регрессии, но все же не удовлетворяет условию задачи. Необходимо провести то же исследование на случайном лесе."
   ]
  },
  {
   "cell_type": "markdown",
   "metadata": {},
   "source": [
    "<b><font color='green'>Метод Upsampling</font></b>"
   ]
  },
  {
   "cell_type": "code",
   "execution_count": 25,
   "metadata": {},
   "outputs": [
    {
     "name": "stdout",
     "output_type": "stream",
     "text": [
      "Best F1 0.5587044534412956\n",
      "Best depth 6\n"
     ]
    }
   ],
   "source": [
    "best_f1 = 0\n",
    "best_depth = 0\n",
    "for depth in range(1, 25, 1):\n",
    "    model = DecisionTreeClassifier(random_state=12345, max_depth=depth)\n",
    "    model.fit(features_upsampled, target_upsampled)\n",
    "    predict_valid = model.predict(features_valid)\n",
    "    f1 = f1_score(target_valid, predict_valid)\n",
    "    if f1 > best_f1:\n",
    "        best_f1 = f1\n",
    "        best_depth = depth\n",
    "print('Best F1', best_f1)\n",
    "print('Best depth', best_depth)\n"
   ]
  },
  {
   "cell_type": "markdown",
   "metadata": {},
   "source": [
    "<div class=\"alert alert-block alert-success\">\n",
    "<b>Успех👍:</b> \n",
    "    \n",
    "Качество поднялось, но все еще низкое\n",
    "</div>"
   ]
  },
  {
   "cell_type": "markdown",
   "metadata": {},
   "source": [
    "Модель решающего дерева существенно лучше. Применим метод порога классификации"
   ]
  },
  {
   "cell_type": "code",
   "execution_count": 26,
   "metadata": {
    "scrolled": false
   },
   "outputs": [
    {
     "name": "stdout",
     "output_type": "stream",
     "text": [
      "Лучший порог = 0.58 | Лучший F1 = 0.565\n"
     ]
    }
   ],
   "source": [
    "model = DecisionTreeClassifier(random_state=12345, max_depth=best_depth)\n",
    "model.fit(features_upsampled, target_upsampled)\n",
    "\n",
    "probabilities_valid = model.predict_proba(features_valid)\n",
    "probabilities_one_valid = probabilities_valid[:, 1]\n",
    "\n",
    "best_threshold = 0\n",
    "best_f1 = 0\n",
    "\n",
    "for threshold in np.arange(0, 0.8, 0.02):\n",
    "    predict_valid = probabilities_one_valid > threshold\n",
    "    f1 = f1_score(target_valid, predict_valid)\n",
    "    if f1 > best_f1:\n",
    "        best_f1 = f1\n",
    "        best_threshold = threshold\n",
    "        \n",
    "print(\"Лучший порог = {:.2f} | Лучший F1 = {:.3f}\".format(best_threshold, best_f1))\n"
   ]
  },
  {
   "cell_type": "markdown",
   "metadata": {},
   "source": [
    "<div class=\"alert alert-block alert-success\">\n",
    "<b>Успех👍:</b> \n",
    "    \n",
    "Ну, почти ничего не изменилось)\n",
    "</div>"
   ]
  },
  {
   "cell_type": "markdown",
   "metadata": {},
   "source": [
    "Проверим значение метрики AUC-ROC, но для начала построим эту кривую "
   ]
  },
  {
   "cell_type": "code",
   "execution_count": 27,
   "metadata": {
    "scrolled": false
   },
   "outputs": [
    {
     "data": {
      "image/png": "[encoded data removed]",
      "text/plain": [
       "<Figure size 432x288 with 1 Axes>"
      ]
     },
     "metadata": {
      "needs_background": "light"
     },
     "output_type": "display_data"
    }
   ],
   "source": [
    "fpr, tpr, threshold = roc_curve(target_valid, probabilities_one_valid)\n",
    "\n",
    "plt.figure()\n",
    "plt.plot([0, 1], [0, 1], linestyle='--')\n",
    "plt.plot(fpr, tpr, linestyle='-')\n",
    "\n",
    "plt.xlim([0, 1])\n",
    "plt.ylim([0, 1])\n",
    "\n",
    "plt.xlabel('False Positive Rate')\n",
    "plt.ylabel('True Positive Rate')\n",
    "\n",
    "plt.title('ROC-кривая')\n",
    "\n",
    "plt.show()"
   ]
  },
  {
   "cell_type": "code",
   "execution_count": 28,
   "metadata": {
    "scrolled": true
   },
   "outputs": [
    {
     "name": "stdout",
     "output_type": "stream",
     "text": [
      "AUC-ROC: 0.8088890972931989\n"
     ]
    }
   ],
   "source": [
    "auc_roc = roc_auc_score(target_valid, probabilities_one_valid)\n",
    "print('AUC-ROC:', auc_roc)"
   ]
  },
  {
   "cell_type": "markdown",
   "metadata": {},
   "source": [
    "<div class=\"alert alert-block alert-success\">\n",
    "<b>Успех👍:</b> \n",
    "    \n",
    "Значения roc-кривой получше чем у лог регрессии, что было ожидаемо)\n",
    "</div>"
   ]
  },
  {
   "cell_type": "markdown",
   "metadata": {},
   "source": [
    "Сравним значения лучшее значение F1 и AUC-ROC"
   ]
  },
  {
   "cell_type": "code",
   "execution_count": 29,
   "metadata": {
    "scrolled": false
   },
   "outputs": [
    {
     "name": "stdout",
     "output_type": "stream",
     "text": [
      "F1: 0.5648050579557429\n",
      "AUC-ROC: 0.8088890972931989\n"
     ]
    }
   ],
   "source": [
    "predict_valid = probabilities_one_valid > best_threshold\n",
    "f1 = f1_score(target_valid, predict_valid)\n",
    "print('F1:', f1)\n",
    "print('AUC-ROC:', auc_roc)"
   ]
  },
  {
   "cell_type": "markdown",
   "metadata": {},
   "source": [
    "Показатель AUC-ROC как и показатель F1 должны быть как можно выше, чем ближе к 1, тем качественнее модель. Показатель F1 уже гораздо лучше в решающем дереве, чем в логистической регрессии, но все же не удовлетворяет условию задачи. Необходимо провести то же исследование на случайном лесе."
   ]
  },
  {
   "cell_type": "markdown",
   "metadata": {},
   "source": [
    "<b><font color='green'>Общий вывод двух методов</font></b>"
   ]
  },
  {
   "cell_type": "markdown",
   "metadata": {},
   "source": [
    "После применения двух методов результаты исследуемых метрик оказались полностью одинаковыми."
   ]
  },
  {
   "cell_type": "markdown",
   "metadata": {},
   "source": [
    "**Сбалансируем и протестируем работу модели случайного леса**"
   ]
  },
  {
   "cell_type": "markdown",
   "metadata": {},
   "source": [
    "<b><font color='green'>Метод class_weight='balanced'</font></b>"
   ]
  },
  {
   "cell_type": "code",
   "execution_count": 47,
   "metadata": {},
   "outputs": [
    {
     "name": "stdout",
     "output_type": "stream",
     "text": [
      "Best F1 0.5797950219619327\n",
      "Best depth 13\n"
     ]
    }
   ],
   "source": [
    "best_f1 = 0\n",
    "best_depth = 0\n",
    "for depth in range(1, 25, 1):\n",
    "    model = RandomForestClassifier(n_estimators=20, max_depth=depth, class_weight='balanced', random_state=12345)\n",
    "    model.fit(features_train, target_train)\n",
    "    predict_valid = model.predict(features_valid)\n",
    "    f1 = f1_score(target_valid, predict_valid)\n",
    "    if f1 > best_f1:\n",
    "        best_f1 = f1\n",
    "        best_depth = depth\n",
    "print('Best F1', best_f1)\n",
    "print('Best depth', best_depth)"
   ]
  },
  {
   "cell_type": "code",
   "execution_count": 48,
   "metadata": {},
   "outputs": [
    {
     "name": "stdout",
     "output_type": "stream",
     "text": [
      "F1: 0.5878877400295421\n"
     ]
    }
   ],
   "source": [
    "model = RandomForestClassifier(n_estimators=60, max_depth=best_depth, class_weight='balanced', random_state=12345)\n",
    "model.fit(features_train, target_train)\n",
    "predict_valid = model.predict(features_valid)\n",
    "f1 = f1_score(target_valid, predict_valid)\n",
    "\n",
    "print('F1:', f1)\n"
   ]
  },
  {
   "cell_type": "markdown",
   "metadata": {},
   "source": [
    "Модель случайного леса лучше, чем модель решающего дерева. Применим метод порога классификации"
   ]
  },
  {
   "cell_type": "code",
   "execution_count": 49,
   "metadata": {},
   "outputs": [
    {
     "name": "stdout",
     "output_type": "stream",
     "text": [
      "Лучший порог = 0.48 | Лучший F1 = 0.600\n"
     ]
    }
   ],
   "source": [
    "model = RandomForestClassifier(n_estimators=60, max_depth=best_depth, class_weight='balanced', random_state=12345)\n",
    "model.fit(features_train, target_train)\n",
    "\n",
    "probabilities_valid = model.predict_proba(features_valid)\n",
    "probabilities_one_valid = probabilities_valid[:, 1]\n",
    "\n",
    "best_threshold = 0\n",
    "best_f1 = 0\n",
    "\n",
    "for threshold in np.arange(0, 0.8, 0.02):\n",
    "    predict_valid = probabilities_one_valid > threshold\n",
    "    f1 = f1_score(target_valid, predict_valid)\n",
    "    if f1 > best_f1:\n",
    "        best_f1 = f1\n",
    "        best_threshold = threshold\n",
    "        \n",
    "print(\"Лучший порог = {:.2f} | Лучший F1 = {:.3f}\".format(best_threshold, best_f1))"
   ]
  },
  {
   "cell_type": "markdown",
   "metadata": {},
   "source": [
    "Проверим значение метрики AUC-ROC, но для начала построим эту кривую "
   ]
  },
  {
   "cell_type": "code",
   "execution_count": 50,
   "metadata": {
    "scrolled": true
   },
   "outputs": [
    {
     "data": {
      "image/png": "[encoded data removed]",
      "text/plain": [
       "<Figure size 432x288 with 1 Axes>"
      ]
     },
     "metadata": {
      "needs_background": "light"
     },
     "output_type": "display_data"
    }
   ],
   "source": [
    "fpr, tpr, threshold = roc_curve(target_valid, probabilities_one_valid)\n",
    "\n",
    "plt.figure()\n",
    "plt.plot([0, 1], [0, 1], linestyle='--')\n",
    "plt.plot(fpr, tpr, linestyle='-')\n",
    "\n",
    "plt.xlim([0, 1])\n",
    "plt.ylim([0, 1])\n",
    "\n",
    "plt.xlabel('False Positive Rate')\n",
    "plt.ylabel('True Positive Rate')\n",
    "\n",
    "plt.title('ROC-кривая')\n",
    "\n",
    "plt.show()"
   ]
  },
  {
   "cell_type": "code",
   "execution_count": 51,
   "metadata": {
    "scrolled": true
   },
   "outputs": [
    {
     "name": "stdout",
     "output_type": "stream",
     "text": [
      "AUC-ROC: 0.8463208073512323\n"
     ]
    }
   ],
   "source": [
    "auc_roc = roc_auc_score(target_valid, probabilities_one_valid)\n",
    "print('AUC-ROC:', auc_roc)"
   ]
  },
  {
   "cell_type": "markdown",
   "metadata": {},
   "source": [
    "Сравним значения лучшее значение F1 и AUC-ROC"
   ]
  },
  {
   "cell_type": "code",
   "execution_count": 52,
   "metadata": {},
   "outputs": [
    {
     "name": "stdout",
     "output_type": "stream",
     "text": [
      "F1: 0.6\n",
      "AUC-ROC: 0.8463208073512323\n"
     ]
    }
   ],
   "source": [
    "predict_valid = probabilities_one_valid > best_threshold\n",
    "f1 = f1_score(target_valid, predict_valid)\n",
    "print('F1:', f1)\n",
    "print('AUC-ROC:', auc_roc)"
   ]
  },
  {
   "cell_type": "markdown",
   "metadata": {},
   "source": [
    "Показатель AUC-ROC как и показатель F1 должны быть как можно выше, чем ближе к 1, тем качественнее модель. Лучший показатель F1 у случайного леса с генеральными параметрами: количество деревьев 60, глубина 13."
   ]
  },
  {
   "cell_type": "markdown",
   "metadata": {},
   "source": [
    "<b><font color='green'>Метод Upsampling</font></b>"
   ]
  },
  {
   "cell_type": "code",
   "execution_count": 30,
   "metadata": {},
   "outputs": [
    {
     "name": "stdout",
     "output_type": "stream",
     "text": [
      "Best F1 0.5896860986547086\n",
      "Best depth 10\n"
     ]
    }
   ],
   "source": [
    "best_f1 = 0\n",
    "best_depth = 0\n",
    "for depth in range(1, 25, 1):\n",
    "    model = RandomForestClassifier(n_estimators=20, max_depth=depth, random_state=12345)\n",
    "    model.fit(features_upsampled, target_upsampled)\n",
    "    predict_valid = model.predict(features_valid)\n",
    "    f1 = f1_score(target_valid, predict_valid)\n",
    "    if f1 > best_f1:\n",
    "        best_f1 = f1\n",
    "        best_depth = depth\n",
    "print('Best F1', best_f1)\n",
    "print('Best depth', best_depth)"
   ]
  },
  {
   "cell_type": "markdown",
   "metadata": {},
   "source": [
    "<div class=\"alert alert-block alert-success\">\n",
    "<b>Успех👍:</b> \n",
    "    \n",
    "Лес все также страдает от потери качества - жалко\n",
    "</div>"
   ]
  },
  {
   "cell_type": "code",
   "execution_count": 31,
   "metadata": {},
   "outputs": [
    {
     "name": "stdout",
     "output_type": "stream",
     "text": [
      "F1: 0.5865168539325842\n"
     ]
    }
   ],
   "source": [
    "model = RandomForestClassifier(n_estimators=60, max_depth=best_depth, random_state=12345)\n",
    "model.fit(features_upsampled, target_upsampled)\n",
    "predict_valid = model.predict(features_valid)\n",
    "f1 = f1_score(target_valid, predict_valid)\n",
    "\n",
    "print('F1:', f1)\n"
   ]
  },
  {
   "cell_type": "code",
   "execution_count": 32,
   "metadata": {},
   "outputs": [
    {
     "name": "stdout",
     "output_type": "stream",
     "text": [
      "Лучший порог = 0.60 | Лучший F1 = 0.593\n"
     ]
    }
   ],
   "source": [
    "model = RandomForestClassifier(n_estimators=60, max_depth=best_depth, random_state=12345)\n",
    "model.fit(features_upsampled, target_upsampled)\n",
    "\n",
    "probabilities_valid = model.predict_proba(features_valid)\n",
    "probabilities_one_valid = probabilities_valid[:, 1]\n",
    "\n",
    "best_threshold = 0\n",
    "best_f1 = 0\n",
    "\n",
    "for threshold in np.arange(0, 0.8, 0.02):\n",
    "    predict_valid = probabilities_one_valid > threshold\n",
    "    f1 = f1_score(target_valid, predict_valid)\n",
    "    if f1 > best_f1:\n",
    "        best_f1 = f1\n",
    "        best_threshold = threshold\n",
    "        \n",
    "print(\"Лучший порог = {:.2f} | Лучший F1 = {:.3f}\".format(best_threshold, best_f1))"
   ]
  },
  {
   "cell_type": "markdown",
   "metadata": {},
   "source": [
    "<div class=\"alert alert-block alert-success\">\n",
    "<b>Успех👍:</b> \n",
    "    \n",
    "Даже порог ему не помог - грустно \n",
    "</div>"
   ]
  },
  {
   "cell_type": "markdown",
   "metadata": {},
   "source": [
    "Проверим значение метрики AUC-ROC, но для начала построим эту кривую "
   ]
  },
  {
   "cell_type": "code",
   "execution_count": 33,
   "metadata": {
    "scrolled": true
   },
   "outputs": [
    {
     "data": {
      "image/png": "[encoded data removed]",
      "text/plain": [
       "<Figure size 432x288 with 1 Axes>"
      ]
     },
     "metadata": {
      "needs_background": "light"
     },
     "output_type": "display_data"
    }
   ],
   "source": [
    "fpr, tpr, threshold = roc_curve(target_valid, probabilities_one_valid)\n",
    "\n",
    "plt.figure()\n",
    "plt.plot([0, 1], [0, 1], linestyle='--')\n",
    "plt.plot(fpr, tpr, linestyle='-')\n",
    "\n",
    "plt.xlim([0, 1])\n",
    "plt.ylim([0, 1])\n",
    "\n",
    "plt.xlabel('False Positive Rate')\n",
    "plt.ylabel('True Positive Rate')\n",
    "\n",
    "plt.title('ROC-кривая')\n",
    "\n",
    "plt.show()"
   ]
  },
  {
   "cell_type": "code",
   "execution_count": 34,
   "metadata": {},
   "outputs": [
    {
     "name": "stdout",
     "output_type": "stream",
     "text": [
      "AUC-ROC: 0.8527067216218235\n"
     ]
    }
   ],
   "source": [
    "auc_roc = roc_auc_score(target_valid, probabilities_one_valid)\n",
    "print('AUC-ROC:', auc_roc)"
   ]
  },
  {
   "cell_type": "markdown",
   "metadata": {},
   "source": [
    "<div class=\"alert alert-block alert-success\">\n",
    "<b>Успех👍:</b> \n",
    "    \n",
    "Значения roc-кривой ниже дерева, но выше дефолта, что радует)\n",
    "</div>"
   ]
  },
  {
   "cell_type": "markdown",
   "metadata": {},
   "source": [
    "Сравним значения лучшее значение F1 и AUC-ROC"
   ]
  },
  {
   "cell_type": "code",
   "execution_count": 35,
   "metadata": {},
   "outputs": [
    {
     "name": "stdout",
     "output_type": "stream",
     "text": [
      "F1: 0.5929919137466306\n",
      "AUC-ROC: 0.8527067216218235\n"
     ]
    }
   ],
   "source": [
    "predict_valid = probabilities_one_valid > best_threshold\n",
    "f1 = f1_score(target_valid, predict_valid)\n",
    "print('F1:', f1)\n",
    "print('AUC-ROC:', auc_roc)"
   ]
  },
  {
   "cell_type": "markdown",
   "metadata": {},
   "source": [
    "Показатель AUC-ROC как и показатель F1 должны быть как можно выше, чем ближе к 1, тем качественнее модель. Лучший показатель F1 у случайного леса с генеральными параметрами: количество деревьев 60, глубина 10."
   ]
  },
  {
   "cell_type": "markdown",
   "metadata": {},
   "source": [
    "<b><font color='green'>Общий вывод двух методов</font></b>"
   ]
  },
  {
   "cell_type": "markdown",
   "metadata": {},
   "source": [
    "Значение метрики F1 немного лучше в методе class_weight, чем в методе upsampling, однако с метрикой AUC-ROC наоборот."
   ]
  },
  {
   "cell_type": "markdown",
   "metadata": {},
   "source": [
    "<div class=\"alert alert-block alert-danger\">\n",
    "<b>Ошибка❌:</b> \n",
    "    \n",
    "Реализовал только один метод борьбы с дисбалансом (порог и внутренний балансировщик работали вместе, поэтому это не считается). Добавь увеличение либо уменьшение выборки (но не надо объединять его с class_weight = 'balanced', это приведет к понижению качесетва моделей + нагрузке на нее)\n",
    "</div>"
   ]
  },
  {
   "cell_type": "markdown",
   "metadata": {},
   "source": [
    "<div class=\"alert alert-block alert-danger\">\n",
    "<b>Ошибка❌ V2:</b> \n",
    "    \n",
    "Почему ты убрал с этапа борьба с дисбалансом метод  class_weight = 'balanced', ведь upsampling должен был быть как аналог, а не замена метода. Верни class_weight для всех моделей, но реализуй его отдельно, не используя признаки с upsampling\n",
    "</div>"
   ]
  },
  {
   "cell_type": "markdown",
   "metadata": {},
   "source": [
    "<div class=\"alert alert-block alert-warning\">\n",
    "<b>Комментарий студента:</b> Исправил\n",
    "</div>"
   ]
  },
  {
   "cell_type": "markdown",
   "metadata": {},
   "source": [
    "<div class=\"alert alert-block alert-success\">\n",
    "<b>Успех👍 V2:</b> \n",
    "    \n",
    "Заметил, теперь у тебя все реализовано превосходно, так держать, молодец)\n",
    "</div>"
   ]
  },
  {
   "cell_type": "markdown",
   "metadata": {},
   "source": [
    "## Тестирование модели"
   ]
  },
  {
   "cell_type": "markdown",
   "metadata": {},
   "source": [
    "Для тестовой выборки будем использовать модель Случайный лес, так как у нее наиболее высокий показатель F1 и AUC-ROC."
   ]
  },
  {
   "cell_type": "markdown",
   "metadata": {},
   "source": [
    "<b><font color='green'>Метод class_weight='balanced'</font></b>"
   ]
  },
  {
   "cell_type": "code",
   "execution_count": 58,
   "metadata": {},
   "outputs": [
    {
     "name": "stdout",
     "output_type": "stream",
     "text": [
      "F1: 0.5522388059701492\n",
      "AUC-ROC: 0.8637524919194068\n"
     ]
    }
   ],
   "source": [
    "model = RandomForestClassifier(n_estimators=60, max_depth=13, random_state=12345)\n",
    "model.fit(features_train, target_train)\n",
    "predict_test = model.predict(features_test)\n",
    "probabilities_test = model.predict_proba(features_test)\n",
    "probabilities_one_test = probabilities_test[:, 1]\n",
    "f1 = f1_score(target_test, predict_test)\n",
    "auc_roc = roc_auc_score(target_test, probabilities_one_test)\n",
    "\n",
    "print('F1:', f1)\n",
    "print('AUC-ROC:', auc_roc)"
   ]
  },
  {
   "cell_type": "code",
   "execution_count": 59,
   "metadata": {},
   "outputs": [
    {
     "data": {
      "image/png": "[encoded data removed]",
      "text/plain": [
       "<Figure size 432x288 with 1 Axes>"
      ]
     },
     "metadata": {
      "needs_background": "light"
     },
     "output_type": "display_data"
    }
   ],
   "source": [
    "fpr, tpr, threshold = roc_curve(target_test, probabilities_one_test)\n",
    "\n",
    "plt.figure()\n",
    "plt.plot([0, 1], [0, 1], linestyle='--')\n",
    "plt.plot(fpr, tpr, linestyle='-')\n",
    "\n",
    "plt.xlim([0, 1])\n",
    "plt.ylim([0, 1])\n",
    "\n",
    "plt.xlabel('False Positive Rate')\n",
    "plt.ylabel('True Positive Rate')\n",
    "\n",
    "plt.title('ROC-кривая')\n",
    "\n",
    "plt.show()"
   ]
  },
  {
   "cell_type": "markdown",
   "metadata": {},
   "source": [
    "<b><font color='green'>Метод Upsampling</font></b>"
   ]
  },
  {
   "cell_type": "code",
   "execution_count": 60,
   "metadata": {
    "scrolled": false
   },
   "outputs": [
    {
     "name": "stdout",
     "output_type": "stream",
     "text": [
      "F1: 0.6439232409381663\n",
      "AUC-ROC: 0.867296637788441\n"
     ]
    }
   ],
   "source": [
    "model = RandomForestClassifier(n_estimators=60, max_depth=10, random_state=12345)\n",
    "model.fit(features_upsampled, target_upsampled)\n",
    "predict_test = model.predict(features_test)\n",
    "probabilities_test = model.predict_proba(features_test)\n",
    "probabilities_one_test = probabilities_test[:, 1]\n",
    "f1 = f1_score(target_test, predict_test)\n",
    "auc_roc = roc_auc_score(target_test, probabilities_one_test)\n",
    "\n",
    "print('F1:', f1)\n",
    "print('AUC-ROC:', auc_roc)"
   ]
  },
  {
   "cell_type": "code",
   "execution_count": 61,
   "metadata": {},
   "outputs": [
    {
     "data": {
      "image/png": "[encoded data removed]",
      "text/plain": [
       "<Figure size 432x288 with 1 Axes>"
      ]
     },
     "metadata": {
      "needs_background": "light"
     },
     "output_type": "display_data"
    }
   ],
   "source": [
    "fpr, tpr, threshold = roc_curve(target_test, probabilities_one_test)\n",
    "\n",
    "plt.figure()\n",
    "plt.plot([0, 1], [0, 1], linestyle='--')\n",
    "plt.plot(fpr, tpr, linestyle='-')\n",
    "\n",
    "plt.xlim([0, 1])\n",
    "plt.ylim([0, 1])\n",
    "\n",
    "plt.xlabel('False Positive Rate')\n",
    "plt.ylabel('True Positive Rate')\n",
    "\n",
    "plt.title('ROC-кривая')\n",
    "\n",
    "plt.show()"
   ]
  },
  {
   "cell_type": "markdown",
   "metadata": {},
   "source": [
    "<div class=\"alert alert-block alert-success\">\n",
    "<b>Успех👍:</b> \n",
    "    \n",
    "Интересно, тест был пройден, хотя на валидационных выборках результат был ниже, интересно.\n",
    "</div>\n",
    "\n",
    "<div class=\"alert alert-block alert-info\">\n",
    "<b>Совет🤔:</b> \n",
    "\n",
    "График roc-кривой было бы классно реализовывать и посмотреть, как будет выглядеть такой график для лучшей модели\n",
    "</div>\n",
    "\n",
    "<div class=\"alert alert-block alert-danger\">\n",
    "<b>Ошибка❌:</b> \n",
    "    \n",
    "Значения auc-roc слишком низкие, чтобы брать данную модель на продакшен, нужно поднять ее качество\n",
    "</div>"
   ]
  },
  {
   "cell_type": "markdown",
   "metadata": {},
   "source": [
    "<div class=\"alert alert-block alert-success\">\n",
    "<b>Успех👍 V2:</b> \n",
    "    \n",
    "Вижу ты смог поднять качество auc-roc, прекрасно)\n",
    "</div>"
   ]
  },
  {
   "cell_type": "markdown",
   "metadata": {},
   "source": [
    "**Итоги** \\\n",
    "В ходе исследования мы выяснили, что самой эффективной моделью в этой задаче является Случайный лес с методом дисбаланса класса Upsampling. Для оценки качества модели в целом, стоит пользоваться совокупной метрикой F1. Как и AUC, F1 должна стремиться к 1, показывая тем самым качество модели. В ходе исследования нам удалось достичь значение метрики F1 равное 0.6439, а AUC-ROC равн"
   ]
  },
  {
   "cell_type": "markdown",
   "metadata": {},
   "source": [
    "<div class=\"alert alert-block alert-success\">\n",
    "<b>Успех👍:</b> \n",
    "    \n",
    "Да, вывод хороший, мне он понравился)\n",
    "</div>\n",
    "\n",
    "<div class=\"alert alert-block alert-info\">\n",
    "<b>Совет🤔: </b> \n",
    "    \n",
    "Однако если это финальный вывод, то нужно добавить и действия на других этапах: начиная от подготовки данных и заканчивая тестированием)\n",
    "</div>"
   ]
  },
  {
   "cell_type": "markdown",
   "metadata": {},
   "source": [
    "## Чек-лист готовности проекта"
   ]
  },
  {
   "cell_type": "markdown",
   "metadata": {},
   "source": [
    "Поставьте 'x' в выполненных пунктах. Далее нажмите Shift+Enter."
   ]
  },
  {
   "cell_type": "markdown",
   "metadata": {},
   "source": [
    "- [x]  Jupyter Notebook открыт\n",
    "- [x]  Весь код выполняется без ошибок\n",
    "- [x]  Ячейки с кодом расположены в порядке исполнения\n",
    "- [x]  Выполнен шаг 1: данные подготовлены\n",
    "- [x]  Выполнен шаг 2: задача исследована\n",
    "    - [x]  Исследован баланс классов\n",
    "    - [x]  Изучены модели без учёта дисбаланса\n",
    "    - [x]  Написаны выводы по результатам исследования\n",
    "- [x]  Выполнен шаг 3: учтён дисбаланс\n",
    "    - [x]  Применено несколько способов борьбы с дисбалансом\n",
    "    - [x]  Написаны выводы по результатам исследования\n",
    "- [x]  Выполнен шаг 4: проведено тестирование\n",
    "- [x]  Удалось достичь *F1*-меры не менее 0.59\n",
    "- [x]  Исследована метрика *AUC-ROC*"
   ]
  },
  {
   "cell_type": "markdown",
   "metadata": {},
   "source": [
    "<div style=\"border:solid Chocolate 2px; padding: 40px\">\n",
    "    \n",
    "<h2><b>Общий вывод по проекту</b></h2>\n",
    "    \n",
    "Ты очень постарался, спасибо тебе за такую работу!)\n",
    "\n",
    "В ходе проекта были выполнены все этапы проекта, главная цель достигнута. Конечно присутствует ряд моментов, которые необходимо рассмотреть, но ничего страшного, для это я здесь). Давай пройдемся по всему что ты сделал, чтобы понять что надо сделать для того, чтобы проект был засчитан:\n",
    "    \n",
    "- К сожалению ты реализовал лишь один метод борьбы с дисбалансом классов, а нужно минимум два. Выбири любой удобный тебе метод, я знаю ты справишься легко и быстро)\n",
    "- Ты не убрал мусорные признаки, нужно от них избавиться\n",
    "- При преобразовании категориальных признаков ты преобразовал признак, который увеличил количество твоих столбцов в несколько десятков раз, ну и ухудшил качество твоих моделей. Так делать не стоит, нужно следить за признаками, которые ты преобразуешь\n",
    "- Нужно добавить перебор гиперпараметров для всех моделей (подробнее описал выше)\n",
    "- Также я не заметил проверку метрики auc-roc, добавь ее пожалуйста\n",
    "- Есть советы по проекту, если хочешь и есть время - реализуй их. Если нет, то запомни на будущее)\n",
    "    \n",
    "Работа хорошая, но нужно доработать! Удачи)"
   ]
  },
  {
   "cell_type": "markdown",
   "metadata": {},
   "source": [
    "<div style=\"border:solid Chocolate 2px; padding: 40px\">\n",
    "    \n",
    "<h2><b>Общий вывод по проекту V2</b></h2>\n",
    "    \n",
    "Ты удалил метод class_weight, а зря, так у тебя опять остался один метод для борьбы с дисбалансом. Выше объяснил подробнее. Удачи там)"
   ]
  },
  {
   "cell_type": "markdown",
   "metadata": {},
   "source": [
    "<div style=\"border:solid Chocolate 2px; padding: 40px\">\n",
    "    \n",
    "<h2><b>Общий вывод по проекту V3</b></h2>\n",
    "    \n",
    "Все, class_weight был добавлен, а значит второй метод для борьбы с дисбалансом имеется, прекрасно). Проект принимаю!"
   ]
  },
  {
   "cell_type": "code",
   "execution_count": null,
   "metadata": {},
   "outputs": [],
   "source": []
  }
 ],
 "metadata": {
  "ExecuteTimeLog": [
   {
    "duration": 584,
    "start_time": "2022-11-29T10:10:58.153Z"
   },
   {
    "duration": 19,
    "start_time": "2022-11-29T10:11:19.444Z"
   },
   {
    "duration": 18,
    "start_time": "2022-11-29T10:11:50.122Z"
   },
   {
    "duration": 49,
    "start_time": "2022-11-29T10:16:06.001Z"
   },
   {
    "duration": 19,
    "start_time": "2022-11-29T10:16:07.723Z"
   },
   {
    "duration": 11,
    "start_time": "2022-11-29T10:16:10.343Z"
   },
   {
    "duration": 72,
    "start_time": "2022-11-29T12:59:33.356Z"
   },
   {
    "duration": 752,
    "start_time": "2022-11-29T12:59:57.747Z"
   },
   {
    "duration": 40,
    "start_time": "2022-11-29T13:00:00.681Z"
   },
   {
    "duration": 12,
    "start_time": "2022-11-29T13:00:02.310Z"
   },
   {
    "duration": 18,
    "start_time": "2022-11-29T13:00:05.634Z"
   },
   {
    "duration": 9,
    "start_time": "2022-11-29T13:00:09.346Z"
   },
   {
    "duration": 42,
    "start_time": "2022-11-29T13:06:51.357Z"
   },
   {
    "duration": 3,
    "start_time": "2022-11-29T13:21:31.597Z"
   },
   {
    "duration": 3,
    "start_time": "2022-11-29T13:21:33.785Z"
   },
   {
    "duration": 53,
    "start_time": "2022-11-29T13:22:17.447Z"
   },
   {
    "duration": 19,
    "start_time": "2022-11-29T13:31:50.187Z"
   },
   {
    "duration": 19,
    "start_time": "2022-11-29T13:32:02.799Z"
   },
   {
    "duration": 207,
    "start_time": "2022-11-29T15:10:58.536Z"
   },
   {
    "duration": 149,
    "start_time": "2022-11-29T15:12:18.956Z"
   },
   {
    "duration": 5,
    "start_time": "2022-11-29T15:13:01.106Z"
   },
   {
    "duration": 189,
    "start_time": "2022-11-29T15:16:41.412Z"
   },
   {
    "duration": 85,
    "start_time": "2022-11-29T15:16:46.122Z"
   },
   {
    "duration": 4,
    "start_time": "2022-11-29T15:16:56.318Z"
   },
   {
    "duration": 217,
    "start_time": "2022-11-29T15:17:24.368Z"
   },
   {
    "duration": 154,
    "start_time": "2022-11-29T15:17:26.454Z"
   },
   {
    "duration": 4,
    "start_time": "2022-11-29T15:17:29.090Z"
   },
   {
    "duration": 192,
    "start_time": "2022-11-29T15:17:47.249Z"
   },
   {
    "duration": 79,
    "start_time": "2022-11-29T15:17:49.860Z"
   },
   {
    "duration": 4,
    "start_time": "2022-11-29T15:17:59.772Z"
   },
   {
    "duration": 11,
    "start_time": "2022-11-29T15:26:21.431Z"
   },
   {
    "duration": 2,
    "start_time": "2022-11-29T15:35:21.170Z"
   },
   {
    "duration": 200,
    "start_time": "2022-11-29T15:35:47.652Z"
   },
   {
    "duration": 19,
    "start_time": "2022-11-29T15:41:14.329Z"
   },
   {
    "duration": 105,
    "start_time": "2022-11-29T15:43:04.581Z"
   },
   {
    "duration": 377,
    "start_time": "2022-11-29T15:45:57.684Z"
   },
   {
    "duration": 193,
    "start_time": "2022-11-29T15:46:15.805Z"
   },
   {
    "duration": 2,
    "start_time": "2022-11-29T15:46:30.599Z"
   },
   {
    "duration": 110,
    "start_time": "2022-11-29T15:46:58.950Z"
   },
   {
    "duration": 2,
    "start_time": "2022-11-29T15:47:04.700Z"
   },
   {
    "duration": 3,
    "start_time": "2022-11-29T15:47:06.667Z"
   },
   {
    "duration": 367,
    "start_time": "2022-11-29T15:47:08.461Z"
   },
   {
    "duration": 22,
    "start_time": "2022-11-29T16:01:24.005Z"
   },
   {
    "duration": 7,
    "start_time": "2022-11-29T16:01:34.596Z"
   },
   {
    "duration": 5,
    "start_time": "2022-11-29T16:03:04.709Z"
   },
   {
    "duration": 9,
    "start_time": "2022-11-29T16:03:38.598Z"
   },
   {
    "duration": 8,
    "start_time": "2022-11-29T16:04:13.480Z"
   },
   {
    "duration": 1107,
    "start_time": "2022-11-29T20:12:26.068Z"
   },
   {
    "duration": 81,
    "start_time": "2022-11-29T20:12:27.178Z"
   },
   {
    "duration": 20,
    "start_time": "2022-11-29T20:12:27.260Z"
   },
   {
    "duration": 12,
    "start_time": "2022-11-29T20:12:27.282Z"
   },
   {
    "duration": 14,
    "start_time": "2022-11-29T20:12:27.296Z"
   },
   {
    "duration": 214,
    "start_time": "2022-11-29T20:12:27.312Z"
   },
   {
    "duration": 3,
    "start_time": "2022-11-29T20:12:27.527Z"
   },
   {
    "duration": 132,
    "start_time": "2022-11-29T20:12:27.531Z"
   },
   {
    "duration": 55,
    "start_time": "2022-11-29T20:12:27.664Z"
   },
   {
    "duration": 4,
    "start_time": "2022-11-29T20:12:27.721Z"
   },
   {
    "duration": 585,
    "start_time": "2022-11-29T20:12:27.726Z"
   },
   {
    "duration": 1189,
    "start_time": "2022-11-29T20:13:35.049Z"
   },
   {
    "duration": 34,
    "start_time": "2022-11-29T20:14:07.430Z"
   },
   {
    "duration": 34,
    "start_time": "2022-11-29T20:15:55.241Z"
   },
   {
    "duration": 7,
    "start_time": "2022-11-29T20:16:02.492Z"
   },
   {
    "duration": 84,
    "start_time": "2022-11-29T20:16:07.546Z"
   },
   {
    "duration": 71,
    "start_time": "2022-11-29T20:16:13.365Z"
   },
   {
    "duration": 66,
    "start_time": "2022-11-29T20:16:25.584Z"
   },
   {
    "duration": 67,
    "start_time": "2022-11-29T20:16:32.458Z"
   },
   {
    "duration": 85,
    "start_time": "2022-11-29T20:16:37.028Z"
   },
   {
    "duration": 135,
    "start_time": "2022-11-29T20:16:40.181Z"
   },
   {
    "duration": 85,
    "start_time": "2022-11-29T20:16:42.436Z"
   },
   {
    "duration": 82,
    "start_time": "2022-11-29T20:16:44.268Z"
   },
   {
    "duration": 102,
    "start_time": "2022-11-29T20:16:46.111Z"
   },
   {
    "duration": 67,
    "start_time": "2022-11-29T20:16:52.326Z"
   },
   {
    "duration": 70,
    "start_time": "2022-11-29T20:16:54.624Z"
   },
   {
    "duration": 67,
    "start_time": "2022-11-29T20:16:58.423Z"
   },
   {
    "duration": 158,
    "start_time": "2022-11-29T20:17:58.309Z"
   },
   {
    "duration": 10,
    "start_time": "2022-11-29T20:18:12.694Z"
   },
   {
    "duration": 187,
    "start_time": "2022-11-29T20:23:30.560Z"
   },
   {
    "duration": 7,
    "start_time": "2022-11-29T20:23:33.628Z"
   },
   {
    "duration": 106,
    "start_time": "2022-11-29T20:23:42.340Z"
   },
   {
    "duration": 3,
    "start_time": "2022-11-29T20:24:20.731Z"
   },
   {
    "duration": 808,
    "start_time": "2022-11-29T20:53:07.086Z"
   },
   {
    "duration": 899,
    "start_time": "2022-11-29T20:53:54.812Z"
   },
   {
    "duration": 792,
    "start_time": "2022-11-29T20:54:23.023Z"
   },
   {
    "duration": 1365,
    "start_time": "2022-11-29T20:54:54.590Z"
   },
   {
    "duration": 202,
    "start_time": "2022-11-29T22:05:54.703Z"
   },
   {
    "duration": 148,
    "start_time": "2022-11-29T22:05:56.374Z"
   },
   {
    "duration": 4,
    "start_time": "2022-11-29T22:06:11.787Z"
   },
   {
    "duration": 3,
    "start_time": "2022-11-29T22:06:17.081Z"
   },
   {
    "duration": 3,
    "start_time": "2022-11-29T22:10:14.230Z"
   },
   {
    "duration": 767,
    "start_time": "2022-11-29T22:15:25.151Z"
   },
   {
    "duration": 1036,
    "start_time": "2022-11-29T22:16:01.370Z"
   },
   {
    "duration": 847,
    "start_time": "2022-11-29T22:17:00.561Z"
   },
   {
    "duration": 740,
    "start_time": "2022-11-29T22:17:24.429Z"
   },
   {
    "duration": 741,
    "start_time": "2022-11-29T22:26:16.576Z"
   },
   {
    "duration": 4557,
    "start_time": "2022-11-29T22:56:48.826Z"
   },
   {
    "duration": 2880,
    "start_time": "2022-11-29T22:59:42.834Z"
   },
   {
    "duration": 1617,
    "start_time": "2022-11-29T23:00:08.732Z"
   },
   {
    "duration": 908,
    "start_time": "2022-11-29T23:00:21.218Z"
   },
   {
    "duration": 1609,
    "start_time": "2022-11-29T23:00:30.440Z"
   },
   {
    "duration": 1159,
    "start_time": "2022-11-30T07:54:08.738Z"
   },
   {
    "duration": 97,
    "start_time": "2022-11-30T07:54:09.900Z"
   },
   {
    "duration": 27,
    "start_time": "2022-11-30T07:54:09.999Z"
   },
   {
    "duration": 26,
    "start_time": "2022-11-30T07:54:10.029Z"
   },
   {
    "duration": 22,
    "start_time": "2022-11-30T07:54:10.057Z"
   },
   {
    "duration": 237,
    "start_time": "2022-11-30T07:54:10.081Z"
   },
   {
    "duration": 199,
    "start_time": "2022-11-30T07:54:10.320Z"
   },
   {
    "duration": 5,
    "start_time": "2022-11-30T07:54:10.524Z"
   },
   {
    "duration": 53,
    "start_time": "2022-11-30T07:54:10.531Z"
   },
   {
    "duration": 3,
    "start_time": "2022-11-30T07:54:10.586Z"
   },
   {
    "duration": 723,
    "start_time": "2022-11-30T07:54:10.590Z"
   },
   {
    "duration": 1325,
    "start_time": "2022-11-30T07:54:11.316Z"
   },
   {
    "duration": 5015,
    "start_time": "2022-11-30T07:54:12.643Z"
   },
   {
    "duration": 1845,
    "start_time": "2022-11-30T07:54:17.660Z"
   },
   {
    "duration": 818,
    "start_time": "2022-11-30T08:21:34.595Z"
   },
   {
    "duration": 1151,
    "start_time": "2022-11-30T08:21:45.641Z"
   },
   {
    "duration": 1684,
    "start_time": "2022-11-30T08:21:56.693Z"
   },
   {
    "duration": 452,
    "start_time": "2022-11-30T08:25:02.072Z"
   },
   {
    "duration": 39,
    "start_time": "2022-11-30T09:04:30.258Z"
   },
   {
    "duration": 3,
    "start_time": "2022-11-30T09:11:09.944Z"
   },
   {
    "duration": 4,
    "start_time": "2022-11-30T09:24:14.079Z"
   },
   {
    "duration": 839,
    "start_time": "2022-11-30T09:29:42.973Z"
   },
   {
    "duration": 1104,
    "start_time": "2022-11-30T09:29:49.174Z"
   },
   {
    "duration": 1694,
    "start_time": "2022-11-30T09:30:15.963Z"
   },
   {
    "duration": 704,
    "start_time": "2022-11-30T09:31:38.696Z"
   },
   {
    "duration": 719,
    "start_time": "2022-11-30T09:40:23.294Z"
   },
   {
    "duration": 747,
    "start_time": "2022-11-30T09:40:40.671Z"
   },
   {
    "duration": 637,
    "start_time": "2022-11-30T09:41:17.341Z"
   },
   {
    "duration": 718,
    "start_time": "2022-11-30T10:18:28.574Z"
   },
   {
    "duration": 811,
    "start_time": "2022-11-30T10:19:00.038Z"
   },
   {
    "duration": 3,
    "start_time": "2022-11-30T10:26:06.715Z"
   },
   {
    "duration": 107,
    "start_time": "2022-11-30T10:33:33.666Z"
   },
   {
    "duration": 5,
    "start_time": "2022-11-30T10:33:59.091Z"
   },
   {
    "duration": 9,
    "start_time": "2022-11-30T10:35:31.725Z"
   },
   {
    "duration": 9,
    "start_time": "2022-11-30T10:35:50.337Z"
   },
   {
    "duration": 8,
    "start_time": "2022-11-30T10:45:02.070Z"
   },
   {
    "duration": 470,
    "start_time": "2022-11-30T10:51:08.902Z"
   },
   {
    "duration": 9,
    "start_time": "2022-11-30T10:51:23.502Z"
   },
   {
    "duration": 61,
    "start_time": "2022-11-30T10:53:11.922Z"
   },
   {
    "duration": 44,
    "start_time": "2022-11-30T10:53:27.209Z"
   },
   {
    "duration": 120,
    "start_time": "2022-11-30T10:53:33.159Z"
   },
   {
    "duration": 121,
    "start_time": "2022-11-30T10:53:42.277Z"
   },
   {
    "duration": 122,
    "start_time": "2022-11-30T10:53:49.259Z"
   },
   {
    "duration": 128,
    "start_time": "2022-11-30T10:54:56.778Z"
   },
   {
    "duration": 113,
    "start_time": "2022-11-30T10:55:02.778Z"
   },
   {
    "duration": 196,
    "start_time": "2022-11-30T10:57:17.957Z"
   },
   {
    "duration": 116,
    "start_time": "2022-11-30T10:57:25.302Z"
   },
   {
    "duration": 111,
    "start_time": "2022-11-30T10:57:31.002Z"
   },
   {
    "duration": 117,
    "start_time": "2022-11-30T10:58:03.105Z"
   },
   {
    "duration": 124,
    "start_time": "2022-11-30T10:58:15.756Z"
   },
   {
    "duration": 15,
    "start_time": "2022-11-30T11:00:38.956Z"
   },
   {
    "duration": 3,
    "start_time": "2022-11-30T11:01:39.631Z"
   },
   {
    "duration": 7,
    "start_time": "2022-11-30T11:01:47.013Z"
   },
   {
    "duration": 830,
    "start_time": "2022-11-30T11:04:54.452Z"
   },
   {
    "duration": 4,
    "start_time": "2022-11-30T11:05:08.665Z"
   },
   {
    "duration": 846,
    "start_time": "2022-11-30T11:05:53.728Z"
   },
   {
    "duration": 4,
    "start_time": "2022-11-30T11:06:04.614Z"
   },
   {
    "duration": 6,
    "start_time": "2022-11-30T11:08:05.982Z"
   },
   {
    "duration": 3,
    "start_time": "2022-11-30T11:19:23.021Z"
   },
   {
    "duration": 716,
    "start_time": "2022-11-30T14:00:47.545Z"
   },
   {
    "duration": 522,
    "start_time": "2022-11-30T14:01:43.193Z"
   },
   {
    "duration": 796,
    "start_time": "2022-11-30T14:01:56.202Z"
   },
   {
    "duration": 707,
    "start_time": "2022-11-30T14:02:49.929Z"
   },
   {
    "duration": 34,
    "start_time": "2022-11-30T14:06:49.078Z"
   },
   {
    "duration": 5727,
    "start_time": "2022-11-30T14:07:01.885Z"
   },
   {
    "duration": 580,
    "start_time": "2022-11-30T14:11:00.337Z"
   },
   {
    "duration": 5,
    "start_time": "2022-11-30T14:14:50.551Z"
   },
   {
    "duration": 6,
    "start_time": "2022-11-30T14:15:16.740Z"
   },
   {
    "duration": 636,
    "start_time": "2022-11-30T14:15:32.720Z"
   },
   {
    "duration": 681,
    "start_time": "2022-11-30T14:16:02.869Z"
   },
   {
    "duration": 626,
    "start_time": "2022-11-30T14:16:24.630Z"
   },
   {
    "duration": 480,
    "start_time": "2022-11-30T14:18:30.221Z"
   },
   {
    "duration": 129,
    "start_time": "2022-11-30T14:23:01.171Z"
   },
   {
    "duration": 6,
    "start_time": "2022-11-30T14:23:38.252Z"
   },
   {
    "duration": 41,
    "start_time": "2022-11-30T14:24:09.003Z"
   },
   {
    "duration": 6,
    "start_time": "2022-11-30T14:24:55.069Z"
   },
   {
    "duration": 455,
    "start_time": "2022-11-30T14:25:14.109Z"
   },
   {
    "duration": 122,
    "start_time": "2022-11-30T14:25:18.467Z"
   },
   {
    "duration": 5,
    "start_time": "2022-11-30T14:25:21.896Z"
   },
   {
    "duration": 7,
    "start_time": "2022-11-30T14:25:25.382Z"
   },
   {
    "duration": 10936,
    "start_time": "2022-11-30T14:40:06.648Z"
   },
   {
    "duration": 427,
    "start_time": "2022-11-30T14:40:40.509Z"
   },
   {
    "duration": 125,
    "start_time": "2022-11-30T14:40:51.223Z"
   },
   {
    "duration": 6,
    "start_time": "2022-11-30T14:40:55.615Z"
   },
   {
    "duration": 7,
    "start_time": "2022-11-30T14:41:06.178Z"
   },
   {
    "duration": 7,
    "start_time": "2022-11-30T14:41:09.444Z"
   },
   {
    "duration": 46,
    "start_time": "2022-11-30T14:43:14.805Z"
   },
   {
    "duration": 9873,
    "start_time": "2022-11-30T14:43:26.645Z"
   },
   {
    "duration": 1991,
    "start_time": "2022-11-30T14:46:54.718Z"
   },
   {
    "duration": 1133,
    "start_time": "2022-11-30T14:47:21.239Z"
   },
   {
    "duration": 1488,
    "start_time": "2022-11-30T14:47:31.124Z"
   },
   {
    "duration": 2144,
    "start_time": "2022-11-30T14:47:40.637Z"
   },
   {
    "duration": 3978,
    "start_time": "2022-11-30T14:48:55.818Z"
   },
   {
    "duration": 1454,
    "start_time": "2022-11-30T14:49:53.965Z"
   },
   {
    "duration": 1296,
    "start_time": "2022-11-30T14:49:59.884Z"
   },
   {
    "duration": 1191,
    "start_time": "2022-11-30T14:50:58.294Z"
   },
   {
    "duration": 1087,
    "start_time": "2022-11-30T14:51:04.994Z"
   },
   {
    "duration": 1317,
    "start_time": "2022-11-30T14:51:11.619Z"
   },
   {
    "duration": 9706,
    "start_time": "2022-11-30T14:52:24.269Z"
   },
   {
    "duration": 1290,
    "start_time": "2022-11-30T14:52:38.774Z"
   },
   {
    "duration": 1336,
    "start_time": "2022-11-30T14:52:48.604Z"
   },
   {
    "duration": 414,
    "start_time": "2022-11-30T14:58:06.771Z"
   },
   {
    "duration": 502,
    "start_time": "2022-11-30T14:58:18.904Z"
   },
   {
    "duration": 417,
    "start_time": "2022-11-30T14:58:24.244Z"
   },
   {
    "duration": 384,
    "start_time": "2022-11-30T14:58:31.024Z"
   },
   {
    "duration": 360,
    "start_time": "2022-11-30T14:58:39.249Z"
   },
   {
    "duration": 330,
    "start_time": "2022-11-30T14:58:49.654Z"
   },
   {
    "duration": 336,
    "start_time": "2022-11-30T14:59:00.772Z"
   },
   {
    "duration": 301,
    "start_time": "2022-11-30T14:59:07.542Z"
   },
   {
    "duration": 340,
    "start_time": "2022-11-30T14:59:13.600Z"
   },
   {
    "duration": 10215,
    "start_time": "2022-11-30T14:59:26.049Z"
   },
   {
    "duration": 1349,
    "start_time": "2022-11-30T14:59:48.920Z"
   },
   {
    "duration": 465,
    "start_time": "2022-11-30T14:59:57.314Z"
   },
   {
    "duration": 1331,
    "start_time": "2022-11-30T15:00:21.587Z"
   },
   {
    "duration": 10077,
    "start_time": "2022-11-30T15:00:28.752Z"
   },
   {
    "duration": 1299,
    "start_time": "2022-11-30T15:00:38.831Z"
   },
   {
    "duration": 1388,
    "start_time": "2022-11-30T15:00:47.213Z"
   },
   {
    "duration": 347,
    "start_time": "2022-11-30T15:00:57.964Z"
   },
   {
    "duration": 125,
    "start_time": "2022-11-30T15:02:19.676Z"
   },
   {
    "duration": 6,
    "start_time": "2022-11-30T15:03:01.012Z"
   },
   {
    "duration": 66,
    "start_time": "2022-11-30T15:03:40.522Z"
   },
   {
    "duration": 8,
    "start_time": "2022-11-30T15:04:08.594Z"
   },
   {
    "duration": 329,
    "start_time": "2022-11-30T15:07:13.590Z"
   },
   {
    "duration": 380,
    "start_time": "2022-11-30T15:17:17.974Z"
   },
   {
    "duration": 2497,
    "start_time": "2022-12-01T10:51:38.037Z"
   },
   {
    "duration": 121,
    "start_time": "2022-12-01T10:51:40.536Z"
   },
   {
    "duration": 15,
    "start_time": "2022-12-01T10:51:40.659Z"
   },
   {
    "duration": 39,
    "start_time": "2022-12-01T10:51:40.676Z"
   },
   {
    "duration": 29,
    "start_time": "2022-12-01T10:51:40.716Z"
   },
   {
    "duration": 206,
    "start_time": "2022-12-01T10:51:40.747Z"
   },
   {
    "duration": 99,
    "start_time": "2022-12-01T10:51:52.192Z"
   },
   {
    "duration": 148,
    "start_time": "2022-12-01T10:52:04.713Z"
   },
   {
    "duration": 6,
    "start_time": "2022-12-01T10:52:09.708Z"
   },
   {
    "duration": 1470,
    "start_time": "2022-12-01T11:12:36.020Z"
   },
   {
    "duration": 44,
    "start_time": "2022-12-01T11:12:37.492Z"
   },
   {
    "duration": 16,
    "start_time": "2022-12-01T11:12:37.538Z"
   },
   {
    "duration": 11,
    "start_time": "2022-12-01T11:12:37.556Z"
   },
   {
    "duration": 17,
    "start_time": "2022-12-01T11:12:37.569Z"
   },
   {
    "duration": 206,
    "start_time": "2022-12-01T11:12:37.588Z"
   },
   {
    "duration": 186,
    "start_time": "2022-12-01T11:12:37.796Z"
   },
   {
    "duration": 4,
    "start_time": "2022-12-01T11:12:37.984Z"
   },
   {
    "duration": 58,
    "start_time": "2022-12-01T11:12:37.990Z"
   },
   {
    "duration": 3,
    "start_time": "2022-12-01T11:12:38.051Z"
   },
   {
    "duration": 727,
    "start_time": "2022-12-01T11:12:38.056Z"
   },
   {
    "duration": 1172,
    "start_time": "2022-12-01T11:12:38.785Z"
   },
   {
    "duration": 4590,
    "start_time": "2022-12-01T11:12:39.959Z"
   },
   {
    "duration": 1575,
    "start_time": "2022-12-01T11:12:44.551Z"
   },
   {
    "duration": 453,
    "start_time": "2022-12-01T11:12:46.128Z"
   },
   {
    "duration": 124,
    "start_time": "2022-12-01T11:12:46.583Z"
   },
   {
    "duration": 695,
    "start_time": "2022-12-01T11:12:46.709Z"
   },
   {
    "duration": 133,
    "start_time": "2022-12-01T11:12:47.406Z"
   },
   {
    "duration": 5,
    "start_time": "2022-12-01T11:12:47.540Z"
   },
   {
    "duration": 6,
    "start_time": "2022-12-01T11:12:47.547Z"
   },
   {
    "duration": 10434,
    "start_time": "2022-12-01T11:12:47.555Z"
   },
   {
    "duration": 423,
    "start_time": "2022-12-01T11:12:57.991Z"
   },
   {
    "duration": 128,
    "start_time": "2022-12-01T11:12:58.416Z"
   },
   {
    "duration": 6,
    "start_time": "2022-12-01T11:12:58.546Z"
   },
   {
    "duration": 7,
    "start_time": "2022-12-01T11:12:58.554Z"
   },
   {
    "duration": 9770,
    "start_time": "2022-12-01T11:12:58.579Z"
   },
   {
    "duration": 1312,
    "start_time": "2022-12-01T11:13:08.351Z"
   },
   {
    "duration": 1357,
    "start_time": "2022-12-01T11:13:09.666Z"
   },
   {
    "duration": 139,
    "start_time": "2022-12-01T11:13:11.025Z"
   },
   {
    "duration": 16,
    "start_time": "2022-12-01T11:13:11.166Z"
   },
   {
    "duration": 12,
    "start_time": "2022-12-01T11:13:11.184Z"
   },
   {
    "duration": 391,
    "start_time": "2022-12-01T11:13:11.199Z"
   },
   {
    "duration": 48,
    "start_time": "2022-12-01T20:34:45.232Z"
   },
   {
    "duration": 1470,
    "start_time": "2022-12-01T20:34:53.788Z"
   },
   {
    "duration": 92,
    "start_time": "2022-12-01T20:34:56.444Z"
   },
   {
    "duration": 14,
    "start_time": "2022-12-01T20:34:58.276Z"
   },
   {
    "duration": 10,
    "start_time": "2022-12-01T20:35:05.614Z"
   },
   {
    "duration": 15,
    "start_time": "2022-12-01T20:35:08.586Z"
   },
   {
    "duration": 4,
    "start_time": "2022-12-01T20:35:12.474Z"
   },
   {
    "duration": 11,
    "start_time": "2022-12-01T20:35:37.582Z"
   },
   {
    "duration": 12,
    "start_time": "2022-12-01T20:35:39.546Z"
   },
   {
    "duration": 5,
    "start_time": "2022-12-01T20:35:41.852Z"
   },
   {
    "duration": 49,
    "start_time": "2022-12-01T20:36:28.560Z"
   },
   {
    "duration": 2,
    "start_time": "2022-12-01T20:36:30.647Z"
   },
   {
    "duration": 45,
    "start_time": "2022-12-01T20:38:22.492Z"
   },
   {
    "duration": 44,
    "start_time": "2022-12-01T20:47:53.946Z"
   },
   {
    "duration": 3485,
    "start_time": "2022-12-01T20:48:06.421Z"
   },
   {
    "duration": 46,
    "start_time": "2022-12-01T20:51:07.260Z"
   },
   {
    "duration": 3045,
    "start_time": "2022-12-01T22:10:49.471Z"
   },
   {
    "duration": 46,
    "start_time": "2022-12-01T22:13:04.259Z"
   },
   {
    "duration": 14548,
    "start_time": "2022-12-01T22:16:27.262Z"
   },
   {
    "duration": 36,
    "start_time": "2022-12-01T22:18:35.325Z"
   },
   {
    "duration": 14614,
    "start_time": "2022-12-01T22:24:13.099Z"
   },
   {
    "duration": 69302,
    "start_time": "2022-12-01T22:24:46.923Z"
   },
   {
    "duration": 326,
    "start_time": "2022-12-01T22:26:55.229Z"
   },
   {
    "duration": 68855,
    "start_time": "2022-12-01T22:27:16.156Z"
   },
   {
    "duration": 3362,
    "start_time": "2022-12-01T22:35:20.538Z"
   },
   {
    "duration": 3420,
    "start_time": "2022-12-01T22:35:38.781Z"
   },
   {
    "duration": 101,
    "start_time": "2022-12-01T22:36:00.897Z"
   },
   {
    "duration": 14482,
    "start_time": "2022-12-01T22:37:26.521Z"
   },
   {
    "duration": 14541,
    "start_time": "2022-12-01T22:37:57.519Z"
   },
   {
    "duration": 37,
    "start_time": "2022-12-01T22:38:16.138Z"
   },
   {
    "duration": 68398,
    "start_time": "2022-12-01T22:39:41.909Z"
   },
   {
    "duration": 32,
    "start_time": "2022-12-01T22:41:03.347Z"
   },
   {
    "duration": 317,
    "start_time": "2022-12-01T22:41:50.572Z"
   },
   {
    "duration": 60,
    "start_time": "2022-12-01T22:42:03.836Z"
   },
   {
    "duration": 3,
    "start_time": "2022-12-01T23:04:08.095Z"
   },
   {
    "duration": 72,
    "start_time": "2022-12-01T23:16:47.918Z"
   },
   {
    "duration": 9,
    "start_time": "2022-12-01T23:16:53.182Z"
   },
   {
    "duration": 10,
    "start_time": "2022-12-01T23:16:56.511Z"
   },
   {
    "duration": 233,
    "start_time": "2022-12-01T23:17:37.092Z"
   },
   {
    "duration": 127,
    "start_time": "2022-12-01T23:18:17.303Z"
   },
   {
    "duration": 7,
    "start_time": "2022-12-01T23:18:23.513Z"
   },
   {
    "duration": 6,
    "start_time": "2022-12-01T23:18:40.953Z"
   },
   {
    "duration": 721,
    "start_time": "2022-12-01T23:19:20.091Z"
   },
   {
    "duration": 78,
    "start_time": "2022-12-01T23:20:38.267Z"
   },
   {
    "duration": 119,
    "start_time": "2022-12-01T23:20:57.696Z"
   },
   {
    "duration": 6,
    "start_time": "2022-12-01T23:21:03.118Z"
   },
   {
    "duration": 6,
    "start_time": "2022-12-01T23:21:11.431Z"
   },
   {
    "duration": 3859,
    "start_time": "2022-12-01T23:21:34.741Z"
   },
   {
    "duration": 469,
    "start_time": "2022-12-01T23:22:37.510Z"
   },
   {
    "duration": 515,
    "start_time": "2022-12-01T23:23:11.066Z"
   },
   {
    "duration": 116,
    "start_time": "2022-12-01T23:23:42.127Z"
   },
   {
    "duration": 6,
    "start_time": "2022-12-01T23:23:46.272Z"
   },
   {
    "duration": 6,
    "start_time": "2022-12-01T23:23:52.800Z"
   },
   {
    "duration": 376,
    "start_time": "2022-12-01T23:29:50.949Z"
   },
   {
    "duration": 496,
    "start_time": "2022-12-01T23:30:33.387Z"
   },
   {
    "duration": 495,
    "start_time": "2022-12-01T23:31:11.905Z"
   },
   {
    "duration": 513,
    "start_time": "2022-12-01T23:33:16.559Z"
   },
   {
    "duration": 617,
    "start_time": "2022-12-01T23:36:01.225Z"
   },
   {
    "duration": 659,
    "start_time": "2022-12-01T23:36:08.870Z"
   },
   {
    "duration": 404,
    "start_time": "2022-12-01T23:36:16.910Z"
   },
   {
    "duration": 495,
    "start_time": "2022-12-01T23:36:24.598Z"
   },
   {
    "duration": 22,
    "start_time": "2022-12-01T23:41:56.521Z"
   },
   {
    "duration": 122,
    "start_time": "2022-12-01T23:42:17.470Z"
   },
   {
    "duration": 527,
    "start_time": "2022-12-01T23:42:35.081Z"
   },
   {
    "duration": 1449,
    "start_time": "2022-12-02T16:36:18.915Z"
   },
   {
    "duration": 174,
    "start_time": "2022-12-02T16:36:20.366Z"
   },
   {
    "duration": 12,
    "start_time": "2022-12-02T16:36:20.542Z"
   },
   {
    "duration": 39,
    "start_time": "2022-12-02T16:36:20.556Z"
   },
   {
    "duration": 23,
    "start_time": "2022-12-02T16:36:20.597Z"
   },
   {
    "duration": 37,
    "start_time": "2022-12-02T16:36:20.621Z"
   },
   {
    "duration": 22,
    "start_time": "2022-12-02T16:36:20.660Z"
   },
   {
    "duration": 31,
    "start_time": "2022-12-02T16:36:20.683Z"
   },
   {
    "duration": 39,
    "start_time": "2022-12-02T16:36:20.716Z"
   },
   {
    "duration": 65,
    "start_time": "2022-12-02T16:36:20.757Z"
   },
   {
    "duration": 3,
    "start_time": "2022-12-02T16:36:20.823Z"
   },
   {
    "duration": 3360,
    "start_time": "2022-12-02T16:36:20.827Z"
   },
   {
    "duration": 282,
    "start_time": "2022-12-02T16:36:24.196Z"
   },
   {
    "duration": 13885,
    "start_time": "2022-12-02T16:36:24.482Z"
   },
   {
    "duration": 35,
    "start_time": "2022-12-02T16:36:38.369Z"
   },
   {
    "duration": 65846,
    "start_time": "2022-12-02T16:36:38.405Z"
   },
   {
    "duration": 327,
    "start_time": "2022-12-02T16:37:44.252Z"
   },
   {
    "duration": 98,
    "start_time": "2022-12-02T16:37:44.581Z"
   },
   {
    "duration": 9,
    "start_time": "2022-12-02T16:37:44.681Z"
   },
   {
    "duration": 15,
    "start_time": "2022-12-02T16:37:44.777Z"
   },
   {
    "duration": 221,
    "start_time": "2022-12-02T16:37:44.795Z"
   },
   {
    "duration": 129,
    "start_time": "2022-12-02T16:37:45.017Z"
   },
   {
    "duration": 6,
    "start_time": "2022-12-02T16:37:45.147Z"
   },
   {
    "duration": 24,
    "start_time": "2022-12-02T16:37:45.154Z"
   },
   {
    "duration": 684,
    "start_time": "2022-12-02T16:37:45.180Z"
   },
   {
    "duration": 76,
    "start_time": "2022-12-02T16:37:45.866Z"
   },
   {
    "duration": 121,
    "start_time": "2022-12-02T16:37:45.944Z"
   },
   {
    "duration": 12,
    "start_time": "2022-12-02T16:37:46.067Z"
   },
   {
    "duration": 31,
    "start_time": "2022-12-02T16:37:46.080Z"
   },
   {
    "duration": 3766,
    "start_time": "2022-12-02T16:37:46.112Z"
   },
   {
    "duration": 491,
    "start_time": "2022-12-02T16:37:49.879Z"
   },
   {
    "duration": 507,
    "start_time": "2022-12-02T16:37:50.378Z"
   },
   {
    "duration": 129,
    "start_time": "2022-12-02T16:37:50.887Z"
   },
   {
    "duration": 6,
    "start_time": "2022-12-02T16:37:51.018Z"
   },
   {
    "duration": 7,
    "start_time": "2022-12-02T16:37:51.025Z"
   },
   {
    "duration": 490,
    "start_time": "2022-12-02T16:37:51.034Z"
   },
   {
    "duration": 114,
    "start_time": "2022-12-02T16:37:51.525Z"
   },
   {
    "duration": 214,
    "start_time": "2022-12-02T16:49:31.700Z"
   },
   {
    "duration": 114,
    "start_time": "2022-12-02T16:50:40.536Z"
   },
   {
    "duration": 6,
    "start_time": "2022-12-02T16:51:02.522Z"
   },
   {
    "duration": 5,
    "start_time": "2022-12-02T16:51:47.635Z"
   },
   {
    "duration": 580,
    "start_time": "2022-12-02T16:58:24.836Z"
   },
   {
    "duration": 82,
    "start_time": "2022-12-02T17:03:31.190Z"
   },
   {
    "duration": 130,
    "start_time": "2022-12-02T17:05:02.702Z"
   },
   {
    "duration": 5,
    "start_time": "2022-12-02T17:05:37.864Z"
   },
   {
    "duration": 8,
    "start_time": "2022-12-02T17:06:25.852Z"
   },
   {
    "duration": 3092,
    "start_time": "2022-12-02T17:11:26.973Z"
   },
   {
    "duration": 393,
    "start_time": "2022-12-02T17:21:16.034Z"
   },
   {
    "duration": 461,
    "start_time": "2022-12-02T17:24:39.396Z"
   },
   {
    "duration": 117,
    "start_time": "2022-12-02T17:25:54.768Z"
   },
   {
    "duration": 7,
    "start_time": "2022-12-02T17:26:19.385Z"
   },
   {
    "duration": 7,
    "start_time": "2022-12-02T17:27:09.628Z"
   },
   {
    "duration": 424,
    "start_time": "2022-12-02T17:33:56.712Z"
   },
   {
    "duration": 480,
    "start_time": "2022-12-02T17:34:03.338Z"
   },
   {
    "duration": 103,
    "start_time": "2022-12-02T17:34:43.642Z"
   },
   {
    "duration": 473,
    "start_time": "2022-12-02T17:34:47.912Z"
   },
   {
    "duration": 111,
    "start_time": "2022-12-02T17:34:51.288Z"
   },
   {
    "duration": 406,
    "start_time": "2022-12-02T17:34:56.090Z"
   },
   {
    "duration": 132,
    "start_time": "2022-12-02T17:34:59.180Z"
   },
   {
    "duration": 481,
    "start_time": "2022-12-02T17:35:07.888Z"
   },
   {
    "duration": 134,
    "start_time": "2022-12-02T17:35:11.609Z"
   }
  ],
  "kernelspec": {
   "display_name": "Python 3 (ipykernel)",
   "language": "python",
   "name": "python3"
  },
  "language_info": {
   "codemirror_mode": {
    "name": "ipython",
    "version": 3
   },
   "file_extension": ".py",
   "mimetype": "text/x-python",
   "name": "python",
   "nbconvert_exporter": "python",
   "pygments_lexer": "ipython3",
   "version": "3.9.13"
  },
  "toc": {
   "base_numbering": 1,
   "nav_menu": {},
   "number_sections": true,
   "sideBar": true,
   "skip_h1_title": true,
   "title_cell": "Содержание",
   "title_sidebar": "Contents",
   "toc_cell": true,
   "toc_position": {},
   "toc_section_display": true,
   "toc_window_display": true
  }
 },
 "nbformat": 4,
 "nbformat_minor": 2
}
